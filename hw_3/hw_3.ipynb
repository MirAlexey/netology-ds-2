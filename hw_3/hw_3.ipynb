{
 "cells": [
  {
   "cell_type": "code",
   "execution_count": 0,
   "metadata": {
    "colab": {},
    "colab_type": "code",
    "id": "Skfj59WfnzG-"
   },
   "outputs": [],
   "source": [
    "import torch\n",
    "from torch import nn\n",
    "import torchvision as tv\n",
    "from torchvision import transforms\n",
    "import time"
   ]
  },
  {
   "cell_type": "code",
   "execution_count": 2,
   "metadata": {
    "colab": {
     "base_uri": "https://localhost:8080/",
     "height": 275
    },
    "colab_type": "code",
    "id": "cmSf63-1n44p",
    "outputId": "6c43895b-4623-4163-e3fb-77b68ffc3f29"
   },
   "outputs": [
    {
     "name": "stderr",
     "output_type": "stream",
     "text": [
      "\r",
      "0it [00:00, ?it/s]"
     ]
    },
    {
     "name": "stdout",
     "output_type": "stream",
     "text": [
      "Downloading http://fashion-mnist.s3-website.eu-central-1.amazonaws.com/train-images-idx3-ubyte.gz to ./FashionMNIST/raw/train-images-idx3-ubyte.gz\n"
     ]
    },
    {
     "name": "stderr",
     "output_type": "stream",
     "text": [
      "26427392it [00:02, 12527555.88it/s]                              \n"
     ]
    },
    {
     "name": "stdout",
     "output_type": "stream",
     "text": [
      "Extracting ./FashionMNIST/raw/train-images-idx3-ubyte.gz to ./FashionMNIST/raw\n"
     ]
    },
    {
     "name": "stderr",
     "output_type": "stream",
     "text": [
      "\r",
      "0it [00:00, ?it/s]"
     ]
    },
    {
     "name": "stdout",
     "output_type": "stream",
     "text": [
      "Downloading http://fashion-mnist.s3-website.eu-central-1.amazonaws.com/train-labels-idx1-ubyte.gz to ./FashionMNIST/raw/train-labels-idx1-ubyte.gz\n"
     ]
    },
    {
     "name": "stderr",
     "output_type": "stream",
     "text": [
      "32768it [00:00, 94151.55it/s]                            \n",
      "0it [00:00, ?it/s]"
     ]
    },
    {
     "name": "stdout",
     "output_type": "stream",
     "text": [
      "Extracting ./FashionMNIST/raw/train-labels-idx1-ubyte.gz to ./FashionMNIST/raw\n",
      "Downloading http://fashion-mnist.s3-website.eu-central-1.amazonaws.com/t10k-images-idx3-ubyte.gz to ./FashionMNIST/raw/t10k-images-idx3-ubyte.gz\n"
     ]
    },
    {
     "name": "stderr",
     "output_type": "stream",
     "text": [
      "4423680it [00:01, 4030879.38it/s]                             \n",
      "0it [00:00, ?it/s]"
     ]
    },
    {
     "name": "stdout",
     "output_type": "stream",
     "text": [
      "Extracting ./FashionMNIST/raw/t10k-images-idx3-ubyte.gz to ./FashionMNIST/raw\n",
      "Downloading http://fashion-mnist.s3-website.eu-central-1.amazonaws.com/t10k-labels-idx1-ubyte.gz to ./FashionMNIST/raw/t10k-labels-idx1-ubyte.gz\n"
     ]
    },
    {
     "name": "stderr",
     "output_type": "stream",
     "text": [
      "8192it [00:00, 30900.85it/s]            "
     ]
    },
    {
     "name": "stdout",
     "output_type": "stream",
     "text": [
      "Extracting ./FashionMNIST/raw/t10k-labels-idx1-ubyte.gz to ./FashionMNIST/raw\n",
      "Processing...\n",
      "Done!\n"
     ]
    },
    {
     "name": "stderr",
     "output_type": "stream",
     "text": [
      "\n"
     ]
    }
   ],
   "source": [
    "train_dataset = tv.datasets.FashionMNIST('.', train=True, transform=tv.transforms.ToTensor(), download=True)\n",
    "test_dataset = tv.datasets.FashionMNIST('.', train=False, transform=tv.transforms.ToTensor(), download=True)"
   ]
  },
  {
   "cell_type": "code",
   "execution_count": 0,
   "metadata": {
    "colab": {},
    "colab_type": "code",
    "id": "ifPpG6JfoJfm"
   },
   "outputs": [],
   "source": [
    "BATCH_SIZE = 256\n",
    "train_iter = torch.utils.data.DataLoader(train_dataset, batch_size=BATCH_SIZE, shuffle=True)\n",
    "test_iter = torch.utils.data.DataLoader(test_dataset, batch_size=BATCH_SIZE, shuffle=False)"
   ]
  },
  {
   "cell_type": "markdown",
   "metadata": {
    "colab_type": "text",
    "id": "sRRVVHkronWL"
   },
   "source": [
    "## Модель и обучение"
   ]
  },
  {
   "cell_type": "code",
   "execution_count": 0,
   "metadata": {
    "colab": {},
    "colab_type": "code",
    "id": "bedEDv9_oqAO"
   },
   "outputs": [],
   "source": [
    "dev = torch.device(\"cuda\") if torch.cuda.is_available() else torch.device(\"cpu\")"
   ]
  },
  {
   "cell_type": "code",
   "execution_count": 0,
   "metadata": {
    "colab": {},
    "colab_type": "code",
    "id": "-hWp8NOmo23s"
   },
   "outputs": [],
   "source": [
    "def evaluate_accuracy(data_iter, net, dev):\n",
    "    acc_sum, n = torch.Tensor([0]).to(dev), 0\n",
    "    for X, y in data_iter:\n",
    "        X, y = X.to(dev), y.to(dev)\n",
    "        acc_sum += (net(X).argmax(axis=1) == y).sum()\n",
    "        n += y.shape[0]\n",
    "    return acc_sum.item() / n"
   ]
  },
  {
   "cell_type": "code",
   "execution_count": 0,
   "metadata": {
    "colab": {},
    "colab_type": "code",
    "id": "mPhZyimwo34u"
   },
   "outputs": [],
   "source": [
    "def train(net, train_iter, test_iter, trainer, num_epochs, dev):\n",
    "    loss = nn.CrossEntropyLoss(reduction='sum')\n",
    "    for epoch in range(num_epochs):\n",
    "        train_l_sum, train_acc_sum, n, start = 0.0, 0.0, 0, time.time()\n",
    "        for X, y in train_iter:\n",
    "            trainer.zero_grad()\n",
    "            X, y = X.to(dev), y.to(dev)\n",
    "            y_hat = net(X)\n",
    "            l = loss(y_hat, y)\n",
    "            l.backward()\n",
    "            trainer.step()\n",
    "            train_l_sum += l.item()\n",
    "            train_acc_sum += (y_hat.argmax(axis=1) == y).sum().item()\n",
    "            n += y.shape[0]\n",
    "        test_acc = evaluate_accuracy(test_iter, net, dev)\n",
    "        print('epoch %d, loss %.4f, train acc %.3f, test acc %.3f, '\n",
    "              'time %.1f sec'\n",
    "              % (epoch + 1, train_l_sum / n, train_acc_sum / n, test_acc,\n",
    "                 time.time() - start))"
   ]
  },
  {
   "cell_type": "code",
   "execution_count": 0,
   "metadata": {
    "colab": {},
    "colab_type": "code",
    "id": "GjwilMQMha7B"
   },
   "outputs": [],
   "source": [
    "# Базовая модель от Алексея :)"
   ]
  },
  {
   "cell_type": "code",
   "execution_count": 0,
   "metadata": {
    "colab": {},
    "colab_type": "code",
    "id": "Erqdb78eoYuv"
   },
   "outputs": [],
   "source": [
    "model = torch.nn.Sequential(\n",
    "    nn.Flatten(),\n",
    "    nn.BatchNorm1d(784),\n",
    "    \n",
    "    nn.Linear(784, 4096),\n",
    "    nn.ReLU(),\n",
    "    nn.BatchNorm1d(4096),\n",
    "    nn.Dropout(0.1),\n",
    "    \n",
    "    nn.Linear(4096, 1024),\n",
    "    nn.ReLU(),\n",
    "    nn.BatchNorm1d(1024),\n",
    "    nn.Dropout(0.1),\n",
    "    \n",
    "    nn.Linear(1024, 512),\n",
    "    nn.ReLU(),\n",
    "    nn.BatchNorm1d(512),\n",
    "    nn.Dropout(0.1),\n",
    "    \n",
    "    nn.Linear(512, 10)\n",
    ").to(dev)"
   ]
  },
  {
   "cell_type": "code",
   "execution_count": 0,
   "metadata": {
    "colab": {},
    "colab_type": "code",
    "id": "eFBSS_qQhY0a"
   },
   "outputs": [],
   "source": [
    "# Пробуем изменить модель в ширину добавив нейронов в слои "
   ]
  },
  {
   "cell_type": "code",
   "execution_count": 0,
   "metadata": {
    "colab": {},
    "colab_type": "code",
    "id": "PCtzqcAwWkzF"
   },
   "outputs": [],
   "source": [
    "model = torch.nn.Sequential(\n",
    "    nn.Flatten(),\n",
    "    nn.BatchNorm1d(784),\n",
    "    \n",
    "    nn.Linear(784, 8192),\n",
    "    nn.ReLU(),\n",
    "    nn.BatchNorm1d(8192),\n",
    "    nn.Dropout(0.1),\n",
    "    \n",
    "    nn.Linear(8192, 2048),\n",
    "    nn.ReLU(),\n",
    "    nn.BatchNorm1d(2048),\n",
    "    nn.Dropout(0.1),\n",
    "    \n",
    "    nn.Linear(2048, 1024),\n",
    "    nn.ReLU(),\n",
    "    nn.BatchNorm1d(1024),\n",
    "    nn.Dropout(0.1),\n",
    "    \n",
    "    nn.Linear(1024, 10)\n",
    ").to(dev)"
   ]
  },
  {
   "cell_type": "code",
   "execution_count": 13,
   "metadata": {
    "colab": {
     "base_uri": "https://localhost:8080/",
     "height": 357
    },
    "colab_type": "code",
    "id": "kVQAvKWMoz6C",
    "outputId": "95782672-6188-4df4-b7bc-06b3d94e647d"
   },
   "outputs": [
    {
     "name": "stdout",
     "output_type": "stream",
     "text": [
      "epoch 1, loss 1.8396, train acc 0.756, test acc 0.811, time 8.4 sec\n",
      "epoch 2, loss 0.4397, train acc 0.842, test acc 0.843, time 8.2 sec\n",
      "epoch 3, loss 0.3666, train acc 0.867, test acc 0.859, time 8.4 sec\n",
      "epoch 4, loss 0.3344, train acc 0.878, test acc 0.863, time 8.3 sec\n",
      "epoch 5, loss 0.3032, train acc 0.888, test acc 0.855, time 8.3 sec\n",
      "epoch 6, loss 0.2797, train acc 0.896, test acc 0.876, time 8.3 sec\n",
      "epoch 7, loss 0.2627, train acc 0.902, test acc 0.881, time 8.2 sec\n",
      "epoch 8, loss 0.2429, train acc 0.909, test acc 0.885, time 8.2 sec\n",
      "epoch 9, loss 0.2362, train acc 0.911, test acc 0.880, time 8.2 sec\n",
      "epoch 10, loss 0.2211, train acc 0.916, test acc 0.882, time 8.1 sec\n",
      "epoch 11, loss 0.2080, train acc 0.922, test acc 0.882, time 8.0 sec\n",
      "epoch 12, loss 0.1966, train acc 0.926, test acc 0.882, time 8.0 sec\n",
      "epoch 13, loss 0.1879, train acc 0.928, test acc 0.888, time 8.1 sec\n",
      "epoch 14, loss 0.1806, train acc 0.931, test acc 0.882, time 8.0 sec\n",
      "epoch 15, loss 0.1716, train acc 0.935, test acc 0.883, time 8.0 sec\n",
      "epoch 16, loss 0.1667, train acc 0.936, test acc 0.886, time 8.5 sec\n",
      "epoch 17, loss 0.1615, train acc 0.938, test acc 0.881, time 8.6 sec\n",
      "epoch 18, loss 0.1562, train acc 0.940, test acc 0.877, time 8.4 sec\n",
      "epoch 19, loss 0.1492, train acc 0.943, test acc 0.882, time 8.3 sec\n",
      "epoch 20, loss 0.1366, train acc 0.948, test acc 0.886, time 8.3 sec\n"
     ]
    }
   ],
   "source": [
    "lr, num_epochs = 0.005, 20\n",
    "trainer = torch.optim.SGD(model.parameters(), lr=lr, momentum=0.5)\n",
    "train(model, train_iter, test_iter, trainer, num_epochs, dev)"
   ]
  },
  {
   "cell_type": "code",
   "execution_count": 14,
   "metadata": {
    "colab": {
     "base_uri": "https://localhost:8080/",
     "height": 187
    },
    "colab_type": "code",
    "id": "8sXCB464pCNq",
    "outputId": "263ecee4-521a-4217-cc46-5a11e0f5a108"
   },
   "outputs": [
    {
     "name": "stdout",
     "output_type": "stream",
     "text": [
      "epoch 1, loss 0.0908, train acc 0.966, test acc 0.896, time 8.3 sec\n",
      "epoch 2, loss 0.0733, train acc 0.973, test acc 0.899, time 8.0 sec\n",
      "epoch 3, loss 0.0658, train acc 0.976, test acc 0.898, time 7.8 sec\n",
      "epoch 4, loss 0.0595, train acc 0.978, test acc 0.896, time 7.9 sec\n",
      "epoch 5, loss 0.0556, train acc 0.980, test acc 0.896, time 7.9 sec\n",
      "epoch 6, loss 0.0511, train acc 0.982, test acc 0.896, time 8.1 sec\n",
      "epoch 7, loss 0.0496, train acc 0.982, test acc 0.894, time 8.1 sec\n",
      "epoch 8, loss 0.0461, train acc 0.983, test acc 0.895, time 8.1 sec\n",
      "epoch 9, loss 0.0444, train acc 0.984, test acc 0.896, time 8.2 sec\n",
      "epoch 10, loss 0.0400, train acc 0.985, test acc 0.898, time 8.1 sec\n"
     ]
    }
   ],
   "source": [
    "lr, num_epochs = 0.001, 10\n",
    "trainer = torch.optim.SGD(model.parameters(), lr=lr)\n",
    "train(model, train_iter, test_iter, trainer, num_epochs, dev)"
   ]
  },
  {
   "cell_type": "code",
   "execution_count": 15,
   "metadata": {
    "colab": {
     "base_uri": "https://localhost:8080/",
     "height": 187
    },
    "colab_type": "code",
    "id": "zyBjH_QJq8Ob",
    "outputId": "045afc55-61ed-4d96-ae07-4622096df519"
   },
   "outputs": [
    {
     "name": "stdout",
     "output_type": "stream",
     "text": [
      "epoch 1, loss 0.0356, train acc 0.987, test acc 0.898, time 7.7 sec\n",
      "epoch 2, loss 0.0341, train acc 0.988, test acc 0.898, time 7.5 sec\n",
      "epoch 3, loss 0.0328, train acc 0.988, test acc 0.896, time 7.6 sec\n",
      "epoch 4, loss 0.0321, train acc 0.989, test acc 0.896, time 7.6 sec\n",
      "epoch 5, loss 0.0304, train acc 0.990, test acc 0.897, time 7.7 sec\n",
      "epoch 6, loss 0.0306, train acc 0.989, test acc 0.898, time 7.6 sec\n",
      "epoch 7, loss 0.0307, train acc 0.989, test acc 0.899, time 7.6 sec\n",
      "epoch 8, loss 0.0302, train acc 0.989, test acc 0.897, time 7.6 sec\n",
      "epoch 9, loss 0.0308, train acc 0.989, test acc 0.896, time 7.5 sec\n",
      "epoch 10, loss 0.0291, train acc 0.990, test acc 0.896, time 7.6 sec\n"
     ]
    }
   ],
   "source": [
    "lr, num_epochs = 0.0001, 10\n",
    "trainer = torch.optim.SGD(model.parameters(), lr=lr)\n",
    "train(model, train_iter, test_iter, trainer, num_epochs, dev)"
   ]
  },
  {
   "cell_type": "code",
   "execution_count": 16,
   "metadata": {
    "colab": {
     "base_uri": "https://localhost:8080/",
     "height": 187
    },
    "colab_type": "code",
    "id": "FG6uQN0Ktw1C",
    "outputId": "6edff9b4-4928-436b-95a6-ba77f6880725"
   },
   "outputs": [
    {
     "name": "stdout",
     "output_type": "stream",
     "text": [
      "epoch 1, loss 0.0285, train acc 0.990, test acc 0.897, time 7.9 sec\n",
      "epoch 2, loss 0.0289, train acc 0.990, test acc 0.900, time 7.5 sec\n",
      "epoch 3, loss 0.0293, train acc 0.990, test acc 0.897, time 7.6 sec\n",
      "epoch 4, loss 0.0287, train acc 0.990, test acc 0.898, time 7.5 sec\n",
      "epoch 5, loss 0.0281, train acc 0.991, test acc 0.897, time 7.5 sec\n",
      "epoch 6, loss 0.0286, train acc 0.990, test acc 0.898, time 7.6 sec\n",
      "epoch 7, loss 0.0287, train acc 0.990, test acc 0.896, time 7.5 sec\n",
      "epoch 8, loss 0.0275, train acc 0.990, test acc 0.898, time 7.4 sec\n",
      "epoch 9, loss 0.0289, train acc 0.990, test acc 0.898, time 7.4 sec\n",
      "epoch 10, loss 0.0279, train acc 0.990, test acc 0.898, time 7.3 sec\n"
     ]
    }
   ],
   "source": [
    "lr, num_epochs = 0.00001, 10\n",
    "trainer = torch.optim.SGD(model.parameters(), lr=lr)\n",
    "train(model, train_iter, test_iter, trainer, num_epochs, dev)"
   ]
  },
  {
   "cell_type": "code",
   "execution_count": 0,
   "metadata": {
    "colab": {},
    "colab_type": "code",
    "id": "DiHy3MaP4VRx"
   },
   "outputs": [],
   "source": [
    "# Попали примерно в тотже минимум (результаты близки)"
   ]
  },
  {
   "cell_type": "code",
   "execution_count": 0,
   "metadata": {
    "colab": {},
    "colab_type": "code",
    "id": "3ojAdQyEgsiF"
   },
   "outputs": [],
   "source": [
    "# Пробуем изменить модель в глубину добавив еще один слой "
   ]
  },
  {
   "cell_type": "code",
   "execution_count": 0,
   "metadata": {
    "colab": {},
    "colab_type": "code",
    "id": "SL_JUEZobnz3"
   },
   "outputs": [],
   "source": [
    "model = torch.nn.Sequential(\n",
    "    nn.Flatten(),\n",
    "    nn.BatchNorm1d(784),\n",
    "    \n",
    "    nn.Linear(784, 4096),\n",
    "    nn.ReLU(),\n",
    "    nn.BatchNorm1d(4096),\n",
    "    nn.Dropout(0.1),\n",
    "    \n",
    "    nn.Linear(4096, 4096),\n",
    "    nn.ReLU(),\n",
    "    nn.BatchNorm1d(4096),\n",
    "    nn.Dropout(0.1),\n",
    "\n",
    "    nn.Linear(4096, 1024),\n",
    "    nn.ReLU(),\n",
    "    nn.BatchNorm1d(1024),\n",
    "    nn.Dropout(0.1),\n",
    "    \n",
    "    nn.Linear(1024, 512),\n",
    "    nn.ReLU(),\n",
    "    nn.BatchNorm1d(512),\n",
    "    nn.Dropout(0.1),\n",
    "    \n",
    "    nn.Linear(512, 10)\n",
    ").to(dev)"
   ]
  },
  {
   "cell_type": "code",
   "execution_count": 18,
   "metadata": {
    "colab": {
     "base_uri": "https://localhost:8080/",
     "height": 357
    },
    "colab_type": "code",
    "id": "_dAWBnUpb2Jb",
    "outputId": "927abafc-0724-4d06-c3ae-b2411c105b4b"
   },
   "outputs": [
    {
     "name": "stdout",
     "output_type": "stream",
     "text": [
      "epoch 1, loss 1.2553, train acc 0.753, test acc 0.808, time 7.7 sec\n",
      "epoch 2, loss 0.4434, train acc 0.838, test acc 0.841, time 7.7 sec\n",
      "epoch 3, loss 0.3758, train acc 0.863, test acc 0.854, time 7.8 sec\n",
      "epoch 4, loss 0.3342, train acc 0.877, test acc 0.856, time 8.0 sec\n",
      "epoch 5, loss 0.3074, train acc 0.887, test acc 0.867, time 7.8 sec\n",
      "epoch 6, loss 0.2869, train acc 0.894, test acc 0.874, time 7.9 sec\n",
      "epoch 7, loss 0.2666, train acc 0.902, test acc 0.880, time 7.9 sec\n",
      "epoch 8, loss 0.2502, train acc 0.907, test acc 0.874, time 7.9 sec\n",
      "epoch 9, loss 0.2390, train acc 0.911, test acc 0.875, time 8.0 sec\n",
      "epoch 10, loss 0.2266, train acc 0.914, test acc 0.884, time 8.3 sec\n",
      "epoch 11, loss 0.2131, train acc 0.921, test acc 0.885, time 8.2 sec\n",
      "epoch 12, loss 0.2037, train acc 0.924, test acc 0.882, time 8.2 sec\n",
      "epoch 13, loss 0.1945, train acc 0.928, test acc 0.881, time 8.2 sec\n",
      "epoch 14, loss 0.1882, train acc 0.930, test acc 0.886, time 8.3 sec\n",
      "epoch 15, loss 0.1772, train acc 0.934, test acc 0.884, time 8.3 sec\n",
      "epoch 16, loss 0.1701, train acc 0.936, test acc 0.880, time 8.2 sec\n",
      "epoch 17, loss 0.1655, train acc 0.938, test acc 0.885, time 8.4 sec\n",
      "epoch 18, loss 0.1556, train acc 0.942, test acc 0.884, time 8.4 sec\n",
      "epoch 19, loss 0.1485, train acc 0.945, test acc 0.877, time 8.3 sec\n",
      "epoch 20, loss 0.1428, train acc 0.947, test acc 0.884, time 8.3 sec\n"
     ]
    }
   ],
   "source": [
    "lr, num_epochs = 0.005, 20\n",
    "trainer = torch.optim.SGD(model.parameters(), lr=lr, momentum=0.5)\n",
    "train(model, train_iter, test_iter, trainer, num_epochs, dev)"
   ]
  },
  {
   "cell_type": "code",
   "execution_count": 19,
   "metadata": {
    "colab": {
     "base_uri": "https://localhost:8080/",
     "height": 187
    },
    "colab_type": "code",
    "id": "5xBL1fCAb2Qi",
    "outputId": "627624ad-a9cb-4cc3-93ff-2088affc8bfe"
   },
   "outputs": [
    {
     "name": "stdout",
     "output_type": "stream",
     "text": [
      "epoch 1, loss 0.0963, train acc 0.965, test acc 0.892, time 8.0 sec\n",
      "epoch 2, loss 0.0795, train acc 0.971, test acc 0.895, time 7.9 sec\n",
      "epoch 3, loss 0.0735, train acc 0.974, test acc 0.892, time 7.9 sec\n",
      "epoch 4, loss 0.0689, train acc 0.975, test acc 0.896, time 7.9 sec\n",
      "epoch 5, loss 0.0639, train acc 0.977, test acc 0.895, time 7.9 sec\n",
      "epoch 6, loss 0.0594, train acc 0.979, test acc 0.893, time 7.9 sec\n",
      "epoch 7, loss 0.0578, train acc 0.979, test acc 0.895, time 8.0 sec\n",
      "epoch 8, loss 0.0558, train acc 0.980, test acc 0.897, time 7.9 sec\n",
      "epoch 9, loss 0.0516, train acc 0.981, test acc 0.894, time 7.8 sec\n",
      "epoch 10, loss 0.0504, train acc 0.982, test acc 0.896, time 7.8 sec\n"
     ]
    }
   ],
   "source": [
    "lr, num_epochs = 0.001, 10\n",
    "trainer = torch.optim.SGD(model.parameters(), lr=lr)\n",
    "train(model, train_iter, test_iter, trainer, num_epochs, dev)"
   ]
  },
  {
   "cell_type": "code",
   "execution_count": 20,
   "metadata": {
    "colab": {
     "base_uri": "https://localhost:8080/",
     "height": 187
    },
    "colab_type": "code",
    "id": "RYF3t9UOb2VW",
    "outputId": "9e61a94c-6285-4908-e3e4-b4982efcdf2d"
   },
   "outputs": [
    {
     "name": "stdout",
     "output_type": "stream",
     "text": [
      "epoch 1, loss 0.0449, train acc 0.984, test acc 0.895, time 7.9 sec\n",
      "epoch 2, loss 0.0422, train acc 0.985, test acc 0.894, time 7.8 sec\n",
      "epoch 3, loss 0.0429, train acc 0.985, test acc 0.894, time 7.7 sec\n",
      "epoch 4, loss 0.0413, train acc 0.985, test acc 0.897, time 7.7 sec\n",
      "epoch 5, loss 0.0417, train acc 0.985, test acc 0.895, time 7.7 sec\n",
      "epoch 6, loss 0.0407, train acc 0.986, test acc 0.895, time 7.7 sec\n",
      "epoch 7, loss 0.0404, train acc 0.985, test acc 0.896, time 7.6 sec\n",
      "epoch 8, loss 0.0394, train acc 0.986, test acc 0.896, time 7.7 sec\n",
      "epoch 9, loss 0.0382, train acc 0.986, test acc 0.894, time 7.6 sec\n",
      "epoch 10, loss 0.0390, train acc 0.986, test acc 0.895, time 7.8 sec\n"
     ]
    }
   ],
   "source": [
    "lr, num_epochs = 0.0001, 10\n",
    "trainer = torch.optim.SGD(model.parameters(), lr=lr)\n",
    "train(model, train_iter, test_iter, trainer, num_epochs, dev)"
   ]
  },
  {
   "cell_type": "code",
   "execution_count": 21,
   "metadata": {
    "colab": {
     "base_uri": "https://localhost:8080/",
     "height": 187
    },
    "colab_type": "code",
    "id": "c6oe9WH_c54j",
    "outputId": "d2e4ee1c-00a1-4e2c-c4cf-e6cc1e3ff6b2"
   },
   "outputs": [
    {
     "name": "stdout",
     "output_type": "stream",
     "text": [
      "epoch 1, loss 0.0387, train acc 0.986, test acc 0.897, time 7.8 sec\n",
      "epoch 2, loss 0.0389, train acc 0.986, test acc 0.893, time 7.7 sec\n",
      "epoch 3, loss 0.0394, train acc 0.986, test acc 0.894, time 8.0 sec\n",
      "epoch 4, loss 0.0390, train acc 0.986, test acc 0.897, time 8.2 sec\n",
      "epoch 5, loss 0.0374, train acc 0.987, test acc 0.895, time 8.2 sec\n",
      "epoch 6, loss 0.0386, train acc 0.987, test acc 0.893, time 8.1 sec\n",
      "epoch 7, loss 0.0376, train acc 0.987, test acc 0.895, time 7.8 sec\n",
      "epoch 8, loss 0.0384, train acc 0.986, test acc 0.894, time 7.7 sec\n",
      "epoch 9, loss 0.0384, train acc 0.986, test acc 0.897, time 7.8 sec\n",
      "epoch 10, loss 0.0380, train acc 0.987, test acc 0.897, time 8.1 sec\n"
     ]
    }
   ],
   "source": [
    "lr, num_epochs = 0.00001, 10\n",
    "trainer = torch.optim.SGD(model.parameters(), lr=lr)\n",
    "train(model, train_iter, test_iter, trainer, num_epochs, dev)"
   ]
  },
  {
   "cell_type": "code",
   "execution_count": 0,
   "metadata": {
    "colab": {},
    "colab_type": "code",
    "id": "fi4pizzNg7Pi"
   },
   "outputs": [],
   "source": [
    "# Результат чуть хуже, но не значительно"
   ]
  },
  {
   "cell_type": "code",
   "execution_count": 0,
   "metadata": {
    "colab": {},
    "colab_type": "code",
    "id": "ntWOhTm6hHWI"
   },
   "outputs": [],
   "source": [
    "# Изменим модель в глубину добавив еще один слой"
   ]
  },
  {
   "cell_type": "code",
   "execution_count": 0,
   "metadata": {
    "colab": {},
    "colab_type": "code",
    "id": "cvKCPeRudN2b"
   },
   "outputs": [],
   "source": [
    "model = torch.nn.Sequential(\n",
    "    nn.Flatten(),\n",
    "    nn.BatchNorm1d(784),\n",
    "    \n",
    "    nn.Linear(784, 4096),\n",
    "    nn.ReLU(),\n",
    "    nn.BatchNorm1d(4096),\n",
    "    nn.Dropout(0.1),\n",
    "    \n",
    "    nn.Linear(4096, 4096),\n",
    "    nn.ReLU(),\n",
    "    nn.BatchNorm1d(4096),\n",
    "    nn.Dropout(0.1),\n",
    "\n",
    "    nn.Linear(4096, 1024),\n",
    "    nn.ReLU(),\n",
    "    nn.BatchNorm1d(1024),\n",
    "    nn.Dropout(0.1),\n",
    "    \n",
    "    nn.Linear(1024, 512),\n",
    "    nn.ReLU(),\n",
    "    nn.BatchNorm1d(512),\n",
    "    \n",
    "    nn.Linear(512, 128),\n",
    "    nn.ReLU(),\n",
    "    nn.BatchNorm1d(128),\n",
    "    \n",
    "    nn.Linear(128, 10)\n",
    ").to(dev)"
   ]
  },
  {
   "cell_type": "code",
   "execution_count": 0,
   "metadata": {
    "colab": {},
    "colab_type": "code",
    "id": "VJZK1Px-h8f-"
   },
   "outputs": [],
   "source": [
    "# Изменим оптимизатор на первой фазе обучения на Adam (в надежде, что оптимизатор доведет нас до другого локального минимума)"
   ]
  },
  {
   "cell_type": "code",
   "execution_count": 31,
   "metadata": {
    "colab": {
     "base_uri": "https://localhost:8080/",
     "height": 357
    },
    "colab_type": "code",
    "id": "w_-t-OhPdtZ_",
    "outputId": "bca71e1c-be80-400e-e431-4758b2b0560e"
   },
   "outputs": [
    {
     "name": "stdout",
     "output_type": "stream",
     "text": [
      "epoch 1, loss 0.4313, train acc 0.847, test acc 0.855, time 9.7 sec\n",
      "epoch 2, loss 0.3464, train acc 0.874, test acc 0.860, time 9.6 sec\n",
      "epoch 3, loss 0.3198, train acc 0.883, test acc 0.853, time 9.6 sec\n",
      "epoch 4, loss 0.3075, train acc 0.887, test acc 0.865, time 9.7 sec\n",
      "epoch 5, loss 0.2948, train acc 0.890, test acc 0.869, time 9.6 sec\n",
      "epoch 6, loss 0.2730, train acc 0.899, test acc 0.878, time 9.6 sec\n",
      "epoch 7, loss 0.2672, train acc 0.901, test acc 0.873, time 9.6 sec\n",
      "epoch 8, loss 0.2562, train acc 0.903, test acc 0.882, time 9.6 sec\n",
      "epoch 9, loss 0.2432, train acc 0.909, test acc 0.884, time 9.5 sec\n",
      "epoch 10, loss 0.2300, train acc 0.913, test acc 0.883, time 9.2 sec\n",
      "epoch 11, loss 0.2182, train acc 0.919, test acc 0.883, time 9.1 sec\n",
      "epoch 12, loss 0.2103, train acc 0.921, test acc 0.881, time 9.1 sec\n",
      "epoch 13, loss 0.2075, train acc 0.922, test acc 0.887, time 9.1 sec\n",
      "epoch 14, loss 0.2001, train acc 0.926, test acc 0.887, time 9.3 sec\n",
      "epoch 15, loss 0.1902, train acc 0.929, test acc 0.887, time 9.4 sec\n",
      "epoch 16, loss 0.1810, train acc 0.931, test acc 0.887, time 9.3 sec\n",
      "epoch 17, loss 0.1737, train acc 0.935, test acc 0.890, time 9.3 sec\n",
      "epoch 18, loss 0.1623, train acc 0.940, test acc 0.890, time 9.2 sec\n",
      "epoch 19, loss 0.1588, train acc 0.940, test acc 0.889, time 9.2 sec\n",
      "epoch 20, loss 0.1494, train acc 0.944, test acc 0.887, time 9.2 sec\n"
     ]
    }
   ],
   "source": [
    "lr, num_epochs = 0.01, 20\n",
    "trainer = torch.optim.Adam(model.parameters(), lr=lr)\n",
    "train(model, train_iter, test_iter, trainer, num_epochs, dev)"
   ]
  },
  {
   "cell_type": "code",
   "execution_count": 32,
   "metadata": {
    "colab": {
     "base_uri": "https://localhost:8080/",
     "height": 187
    },
    "colab_type": "code",
    "id": "ckU-vULwea4m",
    "outputId": "a751aabe-e0a0-4003-f5ab-d4bb10c7e5ff"
   },
   "outputs": [
    {
     "name": "stdout",
     "output_type": "stream",
     "text": [
      "epoch 1, loss 0.1200, train acc 0.956, test acc 0.891, time 7.9 sec\n",
      "epoch 2, loss 0.1150, train acc 0.957, test acc 0.893, time 7.8 sec\n",
      "epoch 3, loss 0.1140, train acc 0.958, test acc 0.893, time 7.6 sec\n",
      "epoch 4, loss 0.1106, train acc 0.959, test acc 0.894, time 7.7 sec\n",
      "epoch 5, loss 0.1098, train acc 0.959, test acc 0.895, time 7.7 sec\n",
      "epoch 6, loss 0.1089, train acc 0.959, test acc 0.895, time 7.8 sec\n",
      "epoch 7, loss 0.1070, train acc 0.960, test acc 0.895, time 7.7 sec\n",
      "epoch 8, loss 0.1077, train acc 0.960, test acc 0.895, time 7.7 sec\n",
      "epoch 9, loss 0.1062, train acc 0.961, test acc 0.893, time 7.7 sec\n",
      "epoch 10, loss 0.1062, train acc 0.960, test acc 0.896, time 7.6 sec\n"
     ]
    }
   ],
   "source": [
    "lr, num_epochs = 0.001, 10\n",
    "trainer = torch.optim.SGD(model.parameters(), lr=lr)\n",
    "train(model, train_iter, test_iter, trainer, num_epochs, dev)"
   ]
  },
  {
   "cell_type": "code",
   "execution_count": 33,
   "metadata": {
    "colab": {
     "base_uri": "https://localhost:8080/",
     "height": 187
    },
    "colab_type": "code",
    "id": "mFWYPHVrfsj0",
    "outputId": "852fcd44-69cb-4059-c33e-56f94e608c34"
   },
   "outputs": [
    {
     "name": "stdout",
     "output_type": "stream",
     "text": [
      "epoch 1, loss 0.1052, train acc 0.961, test acc 0.895, time 7.8 sec\n",
      "epoch 2, loss 0.1051, train acc 0.960, test acc 0.895, time 7.6 sec\n",
      "epoch 3, loss 0.1049, train acc 0.962, test acc 0.899, time 7.6 sec\n",
      "epoch 4, loss 0.1052, train acc 0.961, test acc 0.896, time 7.6 sec\n",
      "epoch 5, loss 0.1051, train acc 0.961, test acc 0.897, time 7.6 sec\n",
      "epoch 6, loss 0.1046, train acc 0.961, test acc 0.894, time 7.7 sec\n",
      "epoch 7, loss 0.1045, train acc 0.961, test acc 0.895, time 7.8 sec\n",
      "epoch 8, loss 0.1038, train acc 0.962, test acc 0.896, time 7.6 sec\n",
      "epoch 9, loss 0.1055, train acc 0.961, test acc 0.894, time 7.6 sec\n",
      "epoch 10, loss 0.1032, train acc 0.962, test acc 0.896, time 7.7 sec\n"
     ]
    }
   ],
   "source": [
    "lr, num_epochs = 0.0001, 10\n",
    "trainer = torch.optim.SGD(model.parameters(), lr=lr)\n",
    "train(model, train_iter, test_iter, trainer, num_epochs, dev)"
   ]
  },
  {
   "cell_type": "code",
   "execution_count": 34,
   "metadata": {
    "colab": {
     "base_uri": "https://localhost:8080/",
     "height": 187
    },
    "colab_type": "code",
    "id": "FoNAtpqYfuBV",
    "outputId": "c87107aa-6977-4ad4-d57b-2e2626dc729b"
   },
   "outputs": [
    {
     "name": "stdout",
     "output_type": "stream",
     "text": [
      "epoch 1, loss 0.1050, train acc 0.961, test acc 0.895, time 7.7 sec\n",
      "epoch 2, loss 0.1043, train acc 0.961, test acc 0.894, time 7.6 sec\n",
      "epoch 3, loss 0.1044, train acc 0.961, test acc 0.895, time 7.6 sec\n",
      "epoch 4, loss 0.1043, train acc 0.962, test acc 0.897, time 7.6 sec\n",
      "epoch 5, loss 0.1036, train acc 0.962, test acc 0.896, time 7.8 sec\n",
      "epoch 6, loss 0.1033, train acc 0.962, test acc 0.897, time 7.6 sec\n",
      "epoch 7, loss 0.1047, train acc 0.961, test acc 0.895, time 7.6 sec\n",
      "epoch 8, loss 0.1056, train acc 0.961, test acc 0.897, time 7.8 sec\n",
      "epoch 9, loss 0.1026, train acc 0.962, test acc 0.894, time 8.0 sec\n",
      "epoch 10, loss 0.1034, train acc 0.962, test acc 0.896, time 8.0 sec\n"
     ]
    }
   ],
   "source": [
    "lr, num_epochs = 0.00001, 10\n",
    "trainer = torch.optim.SGD(model.parameters(), lr=lr)\n",
    "train(model, train_iter, test_iter, trainer, num_epochs, dev)"
   ]
  },
  {
   "cell_type": "code",
   "execution_count": 0,
   "metadata": {
    "colab": {},
    "colab_type": "code",
    "id": "1oWgm7xOiNMb"
   },
   "outputs": [],
   "source": [
    "# Получили результат хуже чем при других оптимизаторах, \n",
    "# однако модель все таки сошлась в другой локальный мимнимум"
   ]
  },
  {
   "cell_type": "code",
   "execution_count": 0,
   "metadata": {
    "colab": {},
    "colab_type": "code",
    "id": "z6D3kRUCiZe9"
   },
   "outputs": [],
   "source": [
    "# Попробуем простую модель"
   ]
  },
  {
   "cell_type": "code",
   "execution_count": 0,
   "metadata": {
    "colab": {},
    "colab_type": "code",
    "id": "pAb4QNbLilrt"
   },
   "outputs": [],
   "source": [
    "model = torch.nn.Sequential(\n",
    "    nn.Flatten(),\n",
    "    nn.BatchNorm1d(784),\n",
    "    \n",
    "    nn.Linear(784, 512),\n",
    "    nn.ReLU(),\n",
    "    nn.BatchNorm1d(512),\n",
    "    nn.Dropout(0.1),\n",
    "    \n",
    "    \n",
    "    nn.Linear(512, 10),\n",
    ").to(dev)"
   ]
  },
  {
   "cell_type": "code",
   "execution_count": 36,
   "metadata": {
    "colab": {
     "base_uri": "https://localhost:8080/",
     "height": 357
    },
    "colab_type": "code",
    "id": "dpcBzIuyi167",
    "outputId": "218f407f-49e8-4fc0-a9ef-fa2ba4861199"
   },
   "outputs": [
    {
     "name": "stdout",
     "output_type": "stream",
     "text": [
      "epoch 1, loss 0.4989, train acc 0.822, test acc 0.838, time 5.9 sec\n",
      "epoch 2, loss 0.3682, train acc 0.865, test acc 0.861, time 5.9 sec\n",
      "epoch 3, loss 0.3246, train acc 0.879, test acc 0.865, time 5.9 sec\n",
      "epoch 4, loss 0.3007, train acc 0.889, test acc 0.863, time 5.9 sec\n",
      "epoch 5, loss 0.2832, train acc 0.894, test acc 0.873, time 5.9 sec\n",
      "epoch 6, loss 0.2681, train acc 0.900, test acc 0.877, time 5.9 sec\n",
      "epoch 7, loss 0.2585, train acc 0.903, test acc 0.877, time 5.9 sec\n",
      "epoch 8, loss 0.2476, train acc 0.907, test acc 0.872, time 6.0 sec\n",
      "epoch 9, loss 0.2381, train acc 0.910, test acc 0.876, time 5.9 sec\n",
      "epoch 10, loss 0.2312, train acc 0.912, test acc 0.872, time 5.9 sec\n",
      "epoch 11, loss 0.2242, train acc 0.917, test acc 0.882, time 5.9 sec\n",
      "epoch 12, loss 0.2218, train acc 0.917, test acc 0.880, time 5.9 sec\n",
      "epoch 13, loss 0.2100, train acc 0.920, test acc 0.881, time 5.9 sec\n",
      "epoch 14, loss 0.1979, train acc 0.926, test acc 0.875, time 5.9 sec\n",
      "epoch 15, loss 0.1950, train acc 0.927, test acc 0.880, time 5.9 sec\n",
      "epoch 16, loss 0.1943, train acc 0.927, test acc 0.874, time 5.9 sec\n",
      "epoch 17, loss 0.1892, train acc 0.929, test acc 0.883, time 5.9 sec\n",
      "epoch 18, loss 0.1836, train acc 0.932, test acc 0.880, time 6.0 sec\n",
      "epoch 19, loss 0.1699, train acc 0.936, test acc 0.880, time 6.0 sec\n",
      "epoch 20, loss 0.1750, train acc 0.935, test acc 0.887, time 5.9 sec\n"
     ]
    }
   ],
   "source": [
    "lr, num_epochs = 0.01, 20\n",
    "trainer = torch.optim.Adam(model.parameters(), lr=lr)\n",
    "train(model, train_iter, test_iter, trainer, num_epochs, dev)"
   ]
  },
  {
   "cell_type": "code",
   "execution_count": 37,
   "metadata": {
    "colab": {
     "base_uri": "https://localhost:8080/",
     "height": 187
    },
    "colab_type": "code",
    "id": "JADzahFEi19b",
    "outputId": "9d6d8238-d380-46c0-e707-fe6ffbccf981"
   },
   "outputs": [
    {
     "name": "stdout",
     "output_type": "stream",
     "text": [
      "epoch 1, loss 0.1366, train acc 0.949, test acc 0.891, time 5.7 sec\n",
      "epoch 2, loss 0.1263, train acc 0.954, test acc 0.893, time 5.6 sec\n",
      "epoch 3, loss 0.1221, train acc 0.956, test acc 0.895, time 5.7 sec\n",
      "epoch 4, loss 0.1196, train acc 0.956, test acc 0.895, time 5.6 sec\n",
      "epoch 5, loss 0.1167, train acc 0.957, test acc 0.895, time 5.7 sec\n",
      "epoch 6, loss 0.1135, train acc 0.958, test acc 0.896, time 5.7 sec\n",
      "epoch 7, loss 0.1121, train acc 0.958, test acc 0.894, time 5.7 sec\n",
      "epoch 8, loss 0.1116, train acc 0.958, test acc 0.893, time 5.6 sec\n",
      "epoch 9, loss 0.1095, train acc 0.959, test acc 0.894, time 5.6 sec\n",
      "epoch 10, loss 0.1089, train acc 0.959, test acc 0.896, time 5.1 sec\n"
     ]
    }
   ],
   "source": [
    "lr, num_epochs = 0.001, 10\n",
    "trainer = torch.optim.SGD(model.parameters(), lr=lr)\n",
    "train(model, train_iter, test_iter, trainer, num_epochs, dev)"
   ]
  },
  {
   "cell_type": "code",
   "execution_count": 38,
   "metadata": {
    "colab": {
     "base_uri": "https://localhost:8080/",
     "height": 187
    },
    "colab_type": "code",
    "id": "jn9rNTvYi2Ap",
    "outputId": "df48c757-38b3-4488-bcb4-64f6064b912b"
   },
   "outputs": [
    {
     "name": "stdout",
     "output_type": "stream",
     "text": [
      "epoch 1, loss 0.1063, train acc 0.961, test acc 0.895, time 5.2 sec\n",
      "epoch 2, loss 0.1058, train acc 0.961, test acc 0.895, time 5.1 sec\n",
      "epoch 3, loss 0.1055, train acc 0.961, test acc 0.896, time 5.2 sec\n",
      "epoch 4, loss 0.1061, train acc 0.961, test acc 0.896, time 5.3 sec\n",
      "epoch 5, loss 0.1048, train acc 0.961, test acc 0.895, time 5.2 sec\n",
      "epoch 6, loss 0.1034, train acc 0.962, test acc 0.895, time 5.2 sec\n",
      "epoch 7, loss 0.1047, train acc 0.962, test acc 0.894, time 5.4 sec\n",
      "epoch 8, loss 0.1048, train acc 0.962, test acc 0.894, time 5.5 sec\n",
      "epoch 9, loss 0.1041, train acc 0.961, test acc 0.898, time 5.5 sec\n",
      "epoch 10, loss 0.1037, train acc 0.961, test acc 0.895, time 5.3 sec\n"
     ]
    }
   ],
   "source": [
    "lr, num_epochs = 0.0001, 10\n",
    "trainer = torch.optim.SGD(model.parameters(), lr=lr)\n",
    "train(model, train_iter, test_iter, trainer, num_epochs, dev)"
   ]
  },
  {
   "cell_type": "code",
   "execution_count": 39,
   "metadata": {
    "colab": {
     "base_uri": "https://localhost:8080/",
     "height": 187
    },
    "colab_type": "code",
    "id": "oNLa1fDUkomg",
    "outputId": "2bbdbcd3-69c5-4eaf-b020-3891718ba151"
   },
   "outputs": [
    {
     "name": "stdout",
     "output_type": "stream",
     "text": [
      "epoch 1, loss 0.1035, train acc 0.962, test acc 0.894, time 5.3 sec\n",
      "epoch 2, loss 0.1050, train acc 0.961, test acc 0.896, time 5.1 sec\n",
      "epoch 3, loss 0.1040, train acc 0.962, test acc 0.897, time 5.3 sec\n",
      "epoch 4, loss 0.1035, train acc 0.962, test acc 0.896, time 5.3 sec\n",
      "epoch 5, loss 0.1032, train acc 0.962, test acc 0.895, time 5.1 sec\n",
      "epoch 6, loss 0.1046, train acc 0.961, test acc 0.895, time 5.6 sec\n",
      "epoch 7, loss 0.1038, train acc 0.962, test acc 0.896, time 5.9 sec\n",
      "epoch 8, loss 0.1043, train acc 0.961, test acc 0.895, time 5.8 sec\n",
      "epoch 9, loss 0.1044, train acc 0.962, test acc 0.895, time 5.7 sec\n",
      "epoch 10, loss 0.1037, train acc 0.962, test acc 0.895, time 5.6 sec\n"
     ]
    }
   ],
   "source": [
    "lr, num_epochs = 0.00001, 10\n",
    "trainer = torch.optim.SGD(model.parameters(), lr=lr)\n",
    "train(model, train_iter, test_iter, trainer, num_epochs, dev)"
   ]
  },
  {
   "cell_type": "code",
   "execution_count": 0,
   "metadata": {
    "colab": {},
    "colab_type": "code",
    "id": "w523sNsgkbPM"
   },
   "outputs": [],
   "source": [
    "# Видно, что падения качества не произошло, модель сошлась примерно в тот же минимум, что и предыдущая"
   ]
  },
  {
   "cell_type": "code",
   "execution_count": 0,
   "metadata": {
    "colab": {},
    "colab_type": "code",
    "id": "bW6VQg9Vk2L6"
   },
   "outputs": [],
   "source": [
    "# получить качество в 92% не получилось :("
   ]
  }
 ],
 "metadata": {
  "accelerator": "GPU",
  "colab": {
   "name": "Copy of fashionmnist.ipynb",
   "provenance": []
  },
  "kernelspec": {
   "display_name": "Python 3",
   "language": "python",
   "name": "python3"
  },
  "language_info": {
   "codemirror_mode": {
    "name": "ipython",
    "version": 3
   },
   "file_extension": ".py",
   "mimetype": "text/x-python",
   "name": "python",
   "nbconvert_exporter": "python",
   "pygments_lexer": "ipython3",
   "version": "3.6.9"
  }
 },
 "nbformat": 4,
 "nbformat_minor": 1
}
