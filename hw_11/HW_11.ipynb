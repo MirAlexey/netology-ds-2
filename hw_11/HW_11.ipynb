{
  "nbformat": 4,
  "nbformat_minor": 0,
  "metadata": {
    "colab": {
      "name": "HW_11.ipynb",
      "provenance": [],
      "collapsed_sections": [],
      "machine_shape": "hm"
    },
    "kernelspec": {
      "name": "python3",
      "display_name": "Python 3"
    },
    "accelerator": "GPU"
  },
  "cells": [
    {
      "cell_type": "code",
      "metadata": {
        "id": "QtFKKnTXHyAT",
        "colab_type": "code",
        "colab": {
          "base_uri": "https://localhost:8080/",
          "height": 72
        },
        "outputId": "c236861c-ab09-4124-87fb-38ec120eb797"
      },
      "source": [
        "import os\n",
        "import random\n",
        "import shutil\n",
        "\n",
        "from multiprocessing.dummy import Pool\n",
        "\n",
        "import numpy as np\n",
        "import pandas as pd\n",
        "import matplotlib.pyplot as plt\n",
        "\n",
        "from PIL import Image\n",
        "\n",
        "from sklearn.model_selection import train_test_split\n",
        "from sklearn.externals import joblib\n",
        "\n",
        "from skimage.morphology import binary_opening, disk, label\n",
        "\n",
        "import torch\n",
        "import torch.nn as nn\n",
        "import torch.nn.functional as F\n",
        "\n",
        "from torch.autograd import Variable\n",
        "from torch.utils.data import DataLoader, Dataset\n",
        "\n",
        "import torchvision.transforms as transforms"
      ],
      "execution_count": 1,
      "outputs": [
        {
          "output_type": "stream",
          "text": [
            "/usr/local/lib/python3.6/dist-packages/sklearn/externals/joblib/__init__.py:15: FutureWarning: sklearn.externals.joblib is deprecated in 0.21 and will be removed in 0.23. Please import this functionality directly from joblib, which can be installed with: pip install joblib. If this warning is raised when loading pickled models, you may need to re-serialize those models with scikit-learn 0.21+.\n",
            "  warnings.warn(msg, category=FutureWarning)\n"
          ],
          "name": "stderr"
        }
      ]
    },
    {
      "cell_type": "code",
      "metadata": {
        "id": "ms18NCRKIbGl",
        "colab_type": "code",
        "colab": {}
      },
      "source": [
        "%matplotlib inline"
      ],
      "execution_count": 0,
      "outputs": []
    },
    {
      "cell_type": "code",
      "metadata": {
        "id": "_w2812Z9L8ew",
        "colab_type": "code",
        "colab": {}
      },
      "source": [
        "import numpy as np\n",
        "from PIL import Image\n",
        "\n",
        "class BaseDataProvider(object):\n",
        "    channels = 1\n",
        "    n_class = 2\n",
        "\n",
        "    def __init__(self, a_min=None, a_max=None):\n",
        "        self.a_min = a_min if a_min is not None else -np.inf\n",
        "        self.a_max = a_max if a_min is not None else np.inf\n",
        "\n",
        "    def _load_data_and_label(self):\n",
        "        data, label = self._next_data()\n",
        "\n",
        "        train_data = self._process_data(data)\n",
        "        labels = self._process_labels(label)\n",
        "\n",
        "        train_data, labels = self._post_process(train_data, labels)\n",
        "\n",
        "        nx = train_data.shape[1]\n",
        "        ny = train_data.shape[0]\n",
        "\n",
        "        return train_data.reshape(1, ny, nx, self.channels), labels.reshape(1, ny, nx, self.n_class),\n",
        "\n",
        "    def _process_labels(self, label):\n",
        "        if self.n_class == 2:\n",
        "            nx = label.shape[1]\n",
        "            ny = label.shape[0]\n",
        "            labels = np.zeros((ny, nx, self.n_class), dtype=np.float32)\n",
        "\n",
        "            # It is the responsibility of the child class to make sure that the label\n",
        "            # is a boolean array, but we a chech here just in case.\n",
        "            if label.dtype != 'bool':\n",
        "                label = label.astype(np.bool)\n",
        "\n",
        "            labels[..., 1] = label\n",
        "            labels[..., 0] = ~label\n",
        "            return labels\n",
        "\n",
        "        return label\n",
        "\n",
        "    def _process_data(self, data):\n",
        "        # normalization\n",
        "        data = np.clip(np.fabs(data), self.a_min, self.a_max)\n",
        "        data -= np.amin(data)\n",
        "\n",
        "        if np.amax(data) != 0:\n",
        "            data /= np.amax(data)\n",
        "\n",
        "        return data\n",
        "\n",
        "    def _post_process(self, data, labels):\n",
        "        \"\"\"\n",
        "        Post processing hook that can be used for data augmentation\n",
        "        :param data: the data array\n",
        "        :param labels: the label array\n",
        "        \"\"\"\n",
        "        return data, labels\n",
        "\n",
        "    def __call__(self, n):\n",
        "        train_data, labels = self._load_data_and_label()\n",
        "        nx = train_data.shape[1]\n",
        "        ny = train_data.shape[2]\n",
        "\n",
        "        X = np.zeros((n, nx, ny, self.channels))\n",
        "        Y = np.zeros((n, nx, ny, self.n_class))\n",
        "\n",
        "        X[0] = train_data\n",
        "        Y[0] = labels\n",
        "        for i in range(1, n):\n",
        "            train_data, labels = self._load_data_and_label()\n",
        "            X[i] = train_data\n",
        "            Y[i] = labels\n",
        "\n",
        "        return X, Y\n",
        "\n",
        "class GrayScaleDataProvider(BaseDataProvider):\n",
        "    channels = 1\n",
        "    n_class = 2\n",
        "    \n",
        "    def __init__(self, nx, ny, **kwargs):\n",
        "        super(GrayScaleDataProvider, self).__init__()\n",
        "        self.nx = nx\n",
        "        self.ny = ny\n",
        "        self.kwargs = kwargs\n",
        "        rect = kwargs.get(\"rectangles\", False)\n",
        "        if rect:\n",
        "            self.n_class=3\n",
        "        \n",
        "    def _next_data(self):\n",
        "        return create_image_and_label(self.nx, self.ny, **self.kwargs)\n",
        "\n",
        "class RgbDataProvider(BaseDataProvider):\n",
        "    channels = 3\n",
        "    n_class = 2\n",
        "    \n",
        "    def __init__(self, nx, ny, **kwargs):\n",
        "        super(RgbDataProvider, self).__init__()\n",
        "        self.nx = nx\n",
        "        self.ny = ny\n",
        "        self.kwargs = kwargs\n",
        "        rect = kwargs.get(\"rectangles\", False)\n",
        "        if rect:\n",
        "            self.n_class=3\n",
        "\n",
        "        \n",
        "    def _next_data(self):\n",
        "        data, label = create_image_and_label(self.nx, self.ny, **self.kwargs)\n",
        "        return to_rgb(data), label\n",
        "\n",
        "def create_image_and_label(nx,ny, cnt = 10, r_min = 5, r_max = 50, border = 92, sigma = 20, rectangles=False):\n",
        "    \n",
        "    \n",
        "    image = np.ones((nx, ny, 1))\n",
        "    label = np.zeros((nx, ny, 3), dtype=np.bool)\n",
        "    mask = np.zeros((nx, ny), dtype=np.bool)\n",
        "    for _ in range(cnt):\n",
        "        a = np.random.randint(border, nx-border)\n",
        "        b = np.random.randint(border, ny-border)\n",
        "        r = np.random.randint(r_min, r_max)\n",
        "        h = np.random.randint(1,255)\n",
        "\n",
        "        y,x = np.ogrid[-a:nx-a, -b:ny-b]\n",
        "        m = x*x + y*y <= r*r\n",
        "        mask = np.logical_or(mask, m)\n",
        "\n",
        "        image[m] = h\n",
        "\n",
        "    label[mask, 1] = 1\n",
        "    \n",
        "    if rectangles:\n",
        "        mask = np.zeros((nx, ny), dtype=np.bool)\n",
        "        for _ in range(cnt//2):\n",
        "            a = np.random.randint(nx)\n",
        "            b = np.random.randint(ny)\n",
        "            r =  np.random.randint(r_min, r_max)\n",
        "            h = np.random.randint(1,255)\n",
        "    \n",
        "            m = np.zeros((nx, ny), dtype=np.bool)\n",
        "            m[a:a+r, b:b+r] = True\n",
        "            mask = np.logical_or(mask, m)\n",
        "            image[m] = h\n",
        "            \n",
        "        label[mask, 2] = 1\n",
        "        \n",
        "        label[..., 0] = ~(np.logical_or(label[...,1], label[...,2]))\n",
        "    \n",
        "    image += np.random.normal(scale=sigma, size=image.shape)\n",
        "    image -= np.amin(image)\n",
        "    image /= np.amax(image)\n",
        "    \n",
        "    if rectangles:\n",
        "        return image, label\n",
        "    else:\n",
        "        return image, label[..., 1]\n",
        "\n",
        "\n",
        "\n",
        "\n",
        "def to_rgb(img):\n",
        "    img = img.reshape(img.shape[0], img.shape[1])\n",
        "    img[np.isnan(img)] = 0\n",
        "    img -= np.amin(img)\n",
        "    img /= np.amax(img)\n",
        "    blue = np.clip(4*(0.75-img), 0, 1)\n",
        "    red  = np.clip(4*(img-0.25), 0, 1)\n",
        "    green= np.clip(44*np.fabs(img-0.5)-1., 0, 1)\n",
        "    rgb = np.stack((red, green, blue), axis=2)\n",
        "    return rgb\n"
      ],
      "execution_count": 0,
      "outputs": []
    },
    {
      "cell_type": "code",
      "metadata": {
        "id": "A72oRlP8uA8H",
        "colab_type": "code",
        "colab": {}
      },
      "source": [
        "import math"
      ],
      "execution_count": 0,
      "outputs": []
    },
    {
      "cell_type": "code",
      "metadata": {
        "id": "b32qD0vcP6Uo",
        "colab_type": "code",
        "colab": {}
      },
      "source": [
        "class param:\n",
        "    img_size = (80, 80)\n",
        "    bs = 10\n",
        "    num_workers = 4\n",
        "    lr = 0.001\n",
        "    epochs = 3\n",
        "    unet_depth = 5\n",
        "    unet_start_filters = 8\n",
        "    log_interval = 5 # less then len(train_dl)"
      ],
      "execution_count": 0,
      "outputs": []
    },
    {
      "cell_type": "code",
      "metadata": {
        "id": "-tBWT0oEMKX7",
        "colab_type": "code",
        "colab": {}
      },
      "source": [
        "class ImgDataset(Dataset):\n",
        "    def __init__(self,\n",
        "                 type_img,\n",
        "                 count_img,\n",
        "                 nx, ny, cnt, \n",
        "                 img_transform=None,\n",
        "                 mask_transform=None,):\n",
        "        self._sigma = 20\n",
        "        self.type_img = type_img\n",
        "        self.count_img = count_img\n",
        "        self.img_transform = img_transform\n",
        "        self.mask_transform = mask_transform\n",
        "        self.nx,self.ny,self.cnt = nx,ny,cnt\n",
        "        generator = RgbDataProvider(nx, ny, cnt=cnt) if type == 'RGB' else GrayScaleDataProvider(nx, ny, cnt=cnt)\n",
        "        images_count = math.ceil(count_img*0.75)\n",
        "        _images, _masks = generator(images_count)\n",
        "        blank_images, blank_masks = np.zeros((count_img - images_count,nx, ny,1)),np.concatenate((np.zeros((count_img - images_count,nx, ny,1)), np.zeros((count_img - images_count,nx, ny,1))),axis=-1) \n",
        "        blank_images += np.random.normal(scale=self._sigma, size=blank_images.shape)\n",
        "        blank_images -= np.amin(blank_images)\n",
        "        blank_images /= 255.0\n",
        "        print(_images.shape,blank_images.shape )\n",
        "        print(_masks.shape,blank_masks.shape )\n",
        "        self.images = np.concatenate((blank_images, _images),axis=0)\n",
        "        self.masks = np.concatenate((blank_masks, _masks),axis=0) \n",
        "        print(self.images.shape, self.masks.shape)\n",
        "\n",
        "\n",
        "    def __getitem__(self, i):\n",
        "        seed = np.random.randint(2147483647)\n",
        "        img = Image.fromarray(self.images[i,...,0]*200+55)\n",
        "        mask =  Image.fromarray(self.masks[i,...,1])\n",
        "        if self.img_transform is not None:\n",
        "            random.seed(seed)\n",
        "            img = self.img_transform(img)\n",
        "            mask = self.mask_transform(mask)\n",
        "        return img, torch.from_numpy(np.array(mask, dtype=np.int64))\n",
        "\n",
        "    def __len__(self):\n",
        "        return self.count_img"
      ],
      "execution_count": 0,
      "outputs": []
    },
    {
      "cell_type": "code",
      "metadata": {
        "id": "zjr2noaxP_80",
        "colab_type": "code",
        "colab": {}
      },
      "source": [
        "train_tfms = transforms.Compose([transforms.Grayscale(num_output_channels=3),\n",
        "                                 transforms.Resize(param.img_size),\n",
        "                                 transforms.ToTensor()])\n",
        "val_tfms = transforms.Compose([transforms.Grayscale(num_output_channels=3),\n",
        "                               transforms.Resize(param.img_size),\n",
        "                               transforms.ToTensor()])\n",
        "mask_tfms = transforms.Compose([transforms.Resize(param.img_size)])"
      ],
      "execution_count": 0,
      "outputs": []
    },
    {
      "cell_type": "code",
      "metadata": {
        "id": "PevjvDv6MKR6",
        "colab_type": "code",
        "colab": {
          "base_uri": "https://localhost:8080/",
          "height": 123
        },
        "outputId": "9a531739-25da-4de6-ef34-10d5fc3f6fd4"
      },
      "source": [
        "train_imgs = ImgDataset('',1000,527,527,5,train_tfms,mask_tfms)\n",
        "test_imgs = ImgDataset('',100,527,527,5,val_tfms,mask_tfms)"
      ],
      "execution_count": 8,
      "outputs": [
        {
          "output_type": "stream",
          "text": [
            "(750, 527, 527, 1) (250, 527, 527, 1)\n",
            "(750, 527, 527, 2) (250, 527, 527, 2)\n",
            "(1000, 527, 527, 1) (1000, 527, 527, 2)\n",
            "(75, 527, 527, 1) (25, 527, 527, 1)\n",
            "(75, 527, 527, 2) (25, 527, 527, 2)\n",
            "(100, 527, 527, 1) (100, 527, 527, 2)\n"
          ],
          "name": "stdout"
        }
      ]
    },
    {
      "cell_type": "code",
      "metadata": {
        "id": "yhBuxWlM17zX",
        "colab_type": "code",
        "colab": {
          "base_uri": "https://localhost:8080/",
          "height": 221
        },
        "outputId": "8474a5c2-3f9c-4af8-f7af-0741cf7a2076"
      },
      "source": [
        "img, mask = train_imgs[24]\n",
        "print(img.shape, mask.shape)\n",
        "plt.subplot(121)\n",
        "plt.imshow(img.permute(1,2,0),cmap='gray')\n",
        "plt.subplot(122)\n",
        "plt.imshow(mask, cmap='gray')\n",
        "plt.show()"
      ],
      "execution_count": 9,
      "outputs": [
        {
          "output_type": "stream",
          "text": [
            "torch.Size([3, 80, 80]) torch.Size([80, 80])\n"
          ],
          "name": "stdout"
        },
        {
          "output_type": "display_data",
          "data": {
            "image/png": "[encoded data removed]",
            "text/plain": [
              "<Figure size 432x288 with 2 Axes>"
            ]
          },
          "metadata": {
            "tags": []
          }
        }
      ]
    },
    {
      "cell_type": "code",
      "metadata": {
        "id": "ge5D0JgiQOLu",
        "colab_type": "code",
        "outputId": "87adc685-e831-4542-dd64-2c49f626bb71",
        "colab": {
          "base_uri": "https://localhost:8080/",
          "height": 221
        }
      },
      "source": [
        "img, mask = train_imgs[250]\n",
        "print(img.shape, mask.shape)\n",
        "plt.subplot(121)\n",
        "plt.imshow(img.permute(1,2,0),cmap='gray')\n",
        "plt.subplot(122)\n",
        "plt.imshow(mask, cmap='gray')\n",
        "plt.show()"
      ],
      "execution_count": 10,
      "outputs": [
        {
          "output_type": "stream",
          "text": [
            "torch.Size([3, 80, 80]) torch.Size([80, 80])\n"
          ],
          "name": "stdout"
        },
        {
          "output_type": "display_data",
          "data": {
            "image/png": "[encoded data removed]",
            "text/plain": [
              "<Figure size 432x288 with 2 Axes>"
            ]
          },
          "metadata": {
            "tags": []
          }
        }
      ]
    },
    {
      "cell_type": "code",
      "metadata": {
        "id": "sgKTA077Jhv_",
        "colab_type": "code",
        "colab": {}
      },
      "source": [
        "def conv1x1(in_channels, out_channels, groups=1):\n",
        "    return nn.Conv2d(in_channels,\n",
        "                     out_channels,\n",
        "                     kernel_size=1,\n",
        "                     groups=groups,\n",
        "                     stride=1)\n",
        "\n",
        "def conv3x3(in_channels, out_channels, stride=1, padding=1, bias=True, groups=1):\n",
        "    return nn.Conv2d(in_channels,\n",
        "                     out_channels,\n",
        "                     kernel_size=3,\n",
        "                     stride=stride,\n",
        "                     padding=padding,\n",
        "                     bias=bias,\n",
        "                     groups=groups)\n",
        "\n",
        "def upconv2x2(in_channels, out_channels, mode='transpose'):\n",
        "    if mode == 'transpose':\n",
        "        return nn.ConvTranspose2d(in_channels,\n",
        "                                  out_channels,\n",
        "                                  kernel_size=2,\n",
        "                                  stride=2)\n",
        "    else:\n",
        "        return nn.Sequential(\n",
        "            nn.Upsample(mode='bilinear', scale_factor=2),\n",
        "            conv1x1(in_channels, out_channels))"
      ],
      "execution_count": 0,
      "outputs": []
    },
    {
      "cell_type": "code",
      "metadata": {
        "id": "MWraFkdSJhoz",
        "colab_type": "code",
        "colab": {}
      },
      "source": [
        "class DownConv(nn.Module):\n",
        "    \"\"\"\n",
        "    A helper Module that performs 2 convolutions and 1 MaxPool.\n",
        "    A ReLU activation follows each convolution.\n",
        "    \"\"\"\n",
        "    def __init__(self, in_channels, out_channels, pooling=True):\n",
        "        super(DownConv, self).__init__()\n",
        "\n",
        "        self.in_channels = in_channels\n",
        "        self.out_channels = out_channels\n",
        "        self.pooling = pooling\n",
        "\n",
        "        self.conv1 = conv3x3(self.in_channels, self.out_channels)\n",
        "        self.conv2 = conv3x3(self.out_channels, self.out_channels)\n",
        "\n",
        "        if self.pooling:\n",
        "            self.pool = nn.MaxPool2d(kernel_size=2, stride=2)\n",
        "\n",
        "    def forward(self, x):\n",
        "        x = F.relu(self.conv1(x))\n",
        "        x = F.relu(self.conv2(x))\n",
        "        before_pool = x\n",
        "        if self.pooling:\n",
        "            x = self.pool(x)\n",
        "        return x, before_pool\n",
        "\n",
        "class UpConv(nn.Module):\n",
        "    \"\"\"\n",
        "    A helper Module that performs 2 convolutions and 1 UpConvolution.\n",
        "    A ReLU activation follows each convolution.\n",
        "    \"\"\"\n",
        "    def __init__(self,\n",
        "                 in_channels,\n",
        "                 out_channels,\n",
        "                 merge_mode='concat',\n",
        "                 up_mode='transpose'):\n",
        "        super(UpConv, self).__init__()\n",
        "\n",
        "        self.in_channels = in_channels\n",
        "        self.out_channels = out_channels\n",
        "        self.merge_mode = merge_mode\n",
        "        self.up_mode = up_mode\n",
        "\n",
        "        self.upconv = upconv2x2(self.in_channels,\n",
        "                                self.out_channels,\n",
        "                                mode=self.up_mode)\n",
        "\n",
        "        if self.merge_mode == 'concat':\n",
        "            self.conv1 = conv3x3(2*self.out_channels,\n",
        "                                 self.out_channels)\n",
        "        else:\n",
        "            # num of input channels to conv2 is same\n",
        "            self.conv1 = conv3x3(self.out_channels, self.out_channels)\n",
        "\n",
        "        self.conv2 = conv3x3(self.out_channels, self.out_channels)\n",
        "\n",
        "    def forward(self, from_down, from_up):\n",
        "        \"\"\" Forward pass\n",
        "        Arguments:\n",
        "            from_down: tensor from the encoder pathway\n",
        "            from_up: upconv'd tensor from the decoder pathway\n",
        "        \"\"\"\n",
        "        from_up = self.upconv(from_up)\n",
        "        if self.merge_mode == 'concat':\n",
        "            x = torch.cat((from_up, from_down), 1)\n",
        "        else:\n",
        "            x = from_up + from_down\n",
        "        x = F.relu(self.conv1(x))\n",
        "        x = F.relu(self.conv2(x))\n",
        "        return x"
      ],
      "execution_count": 0,
      "outputs": []
    },
    {
      "cell_type": "code",
      "metadata": {
        "id": "rK2IB5C3Jefc",
        "colab_type": "code",
        "colab": {}
      },
      "source": [
        "class UNet(nn.Module):\n",
        "    \"\"\" `UNet` class is based on https://arxiv.org/abs/1505.04597\n",
        "    The U-Net is a convolutional encoder-decoder neural network.\n",
        "    Contextual spatial information (from the decoding,\n",
        "    expansive pathway) about an input tensor is merged with\n",
        "    information representing the localization of details\n",
        "    (from the encoding, compressive pathway).\n",
        "    Modifications to the original paper:\n",
        "    (1) padding is used in 3x3 convolutions to prevent loss\n",
        "        of border pixels\n",
        "    (2) merging outputs does not require cropping due to (1)\n",
        "    (3) residual connections can be used by specifying\n",
        "        UNet(merge_mode='add')\n",
        "    (4) if non-parametric upsampling is used in the decoder\n",
        "        pathway (specified by upmode='upsample'), then an\n",
        "        additional 1x1 2d convolution occurs after upsampling\n",
        "        to reduce channel dimensionality by a factor of 2.\n",
        "        This channel halving happens with the convolution in\n",
        "        the tranpose convolution (specified by upmode='transpose')\n",
        "    \"\"\"\n",
        "\n",
        "    def __init__(self, num_classes, in_channels=3, depth=5,\n",
        "                 start_filts=64, up_mode='transpose',\n",
        "                 merge_mode='concat'):\n",
        "        \"\"\"\n",
        "        Arguments:\n",
        "            in_channels: int, number of channels in the input tensor.\n",
        "                Default is 3 for RGB images.\n",
        "            depth: int, number of MaxPools in the U-Net.\n",
        "            start_filts: int, number of convolutional filters for the\n",
        "                first conv.\n",
        "            up_mode: string, type of upconvolution. Choices: 'transpose'\n",
        "                for transpose convolution or 'upsample' for nearest neighbour\n",
        "                upsampling.\n",
        "        \"\"\"\n",
        "        super(UNet, self).__init__()\n",
        "\n",
        "        if up_mode in ('transpose', 'upsample'):\n",
        "            self.up_mode = up_mode\n",
        "        else:\n",
        "            raise ValueError(\"\\\"{}\\\" is not a valid mode for \"\n",
        "                             \"upsampling. Only \\\"transpose\\\" and \"\n",
        "                             \"\\\"upsample\\\" are allowed.\".format(up_mode))\n",
        "\n",
        "        if merge_mode in ('concat', 'add'):\n",
        "            self.merge_mode = merge_mode\n",
        "        else:\n",
        "            raise ValueError(\"\\\"{}\\\" is not a valid mode for\"\n",
        "                             \"merging up and down paths. \"\n",
        "                             \"Only \\\"concat\\\" and \"\n",
        "                             \"\\\"add\\\" are allowed.\".format(up_mode))\n",
        "\n",
        "        # NOTE: up_mode 'upsample' is incompatible with merge_mode 'add'\n",
        "        if self.up_mode == 'upsample' and self.merge_mode == 'add':\n",
        "            raise ValueError(\"up_mode \\\"upsample\\\" is incompatible \"\n",
        "                             \"with merge_mode \\\"add\\\" at the moment \"\n",
        "                             \"because it doesn't make sense to use \"\n",
        "                             \"nearest neighbour to reduce \"\n",
        "                             \"depth channels (by half).\")\n",
        "\n",
        "        self.num_classes = num_classes\n",
        "        self.in_channels = in_channels\n",
        "        self.start_filts = start_filts\n",
        "        self.depth = depth\n",
        "\n",
        "        self.down_convs = []\n",
        "        self.up_convs = []\n",
        "\n",
        "        # create the encoder pathway and add to a list\n",
        "        for i in range(depth):\n",
        "            ins = self.in_channels if i == 0 else outs\n",
        "            outs = self.start_filts*(2**i)\n",
        "            pooling = True if i < depth-1 else False\n",
        "\n",
        "            down_conv = DownConv(ins, outs, pooling=pooling)\n",
        "            self.down_convs.append(down_conv)\n",
        "\n",
        "        # create the decoder pathway and add to a list\n",
        "        # - careful! decoding only requires depth-1 blocks\n",
        "        for i in range(depth-1):\n",
        "            ins = outs\n",
        "            outs = ins // 2\n",
        "            up_conv = UpConv(ins, outs, up_mode=up_mode,\n",
        "                merge_mode=merge_mode)\n",
        "            self.up_convs.append(up_conv)\n",
        "\n",
        "        self.conv_final = conv1x1(outs, self.num_classes)\n",
        "\n",
        "        # add the list of modules to current module\n",
        "        self.down_convs = nn.ModuleList(self.down_convs)\n",
        "        self.up_convs = nn.ModuleList(self.up_convs)\n",
        "\n",
        "        self.reset_params()\n",
        "\n",
        "    @staticmethod\n",
        "    def weight_init(m):\n",
        "        if isinstance(m, nn.Conv2d):\n",
        "            nn.init.xavier_normal(m.weight)\n",
        "            nn.init.constant(m.bias, 0)\n",
        "\n",
        "\n",
        "    def reset_params(self):\n",
        "        for i, m in enumerate(self.modules()):\n",
        "            self.weight_init(m)\n",
        "\n",
        "    def forward(self, x):\n",
        "        encoder_outs = []\n",
        "\n",
        "        # encoder pathway, save outputs for merging\n",
        "        for i, module in enumerate(self.down_convs):\n",
        "            x, before_pool = module(x)\n",
        "            encoder_outs.append(before_pool)\n",
        "\n",
        "        for i, module in enumerate(self.up_convs):\n",
        "            before_pool = encoder_outs[-(i+2)]\n",
        "            x = module(before_pool, x)\n",
        "\n",
        "        # No softmax is used. This means you need to use\n",
        "        # nn.CrossEntropyLoss is your training script,\n",
        "        # as this module includes a softmax already.\n",
        "        x = self.conv_final(x)\n",
        "        return x"
      ],
      "execution_count": 0,
      "outputs": []
    },
    {
      "cell_type": "code",
      "metadata": {
        "id": "oG1CRPZsJx10",
        "colab_type": "code",
        "outputId": "ae80f3d9-f276-4e46-e130-35f04c3c0b78",
        "colab": {
          "base_uri": "https://localhost:8080/",
          "height": 52
        }
      },
      "source": [
        "\n",
        "\n",
        "train_dl = DataLoader(train_imgs,\n",
        "                      batch_size=param.bs,\n",
        "                      shuffle=True,\n",
        "                      pin_memory=torch.cuda.is_available(),\n",
        "                      num_workers=param.num_workers)\n",
        "val_dl = DataLoader(test_imgs,\n",
        "                    batch_size=param.bs,\n",
        "                    shuffle=False,\n",
        "                    pin_memory=torch.cuda.is_available(),\n",
        "                    num_workers=param.num_workers)\n",
        "\n",
        "model = UNet(2,\n",
        "             depth=param.unet_depth,\n",
        "             start_filts=param.unet_start_filters,\n",
        "             merge_mode='concat').cuda()\n",
        "optim = torch.optim.Adam(model.parameters(), lr=param.lr)"
      ],
      "execution_count": 14,
      "outputs": [
        {
          "output_type": "stream",
          "text": [
            "/usr/local/lib/python3.6/dist-packages/ipykernel_launcher.py:98: UserWarning: nn.init.xavier_normal is now deprecated in favor of nn.init.xavier_normal_.\n",
            "/usr/local/lib/python3.6/dist-packages/ipykernel_launcher.py:99: UserWarning: nn.init.constant is now deprecated in favor of nn.init.constant_.\n"
          ],
          "name": "stderr"
        }
      ]
    },
    {
      "cell_type": "code",
      "metadata": {
        "id": "g5gXxbdhJ2Yc",
        "colab_type": "code",
        "colab": {}
      },
      "source": [
        "def get_loss(dl, model):\n",
        "    loss = 0\n",
        "    for X, y in dl:\n",
        "        X, y = Variable(X).cuda(), Variable(y).cuda()\n",
        "        output = model(X)\n",
        "        loss += F.cross_entropy(output, y).item()\n",
        "    loss = loss / len(dl)\n",
        "    return loss"
      ],
      "execution_count": 0,
      "outputs": []
    },
    {
      "cell_type": "code",
      "metadata": {
        "id": "hbGZnix3hDq6",
        "colab_type": "code",
        "colab": {
          "base_uri": "https://localhost:8080/",
          "height": 34
        },
        "outputId": "7b956723-0892-4fc3-86c9-192faa540ff4"
      },
      "source": [
        "for i, (X, y) in enumerate(train_dl):\n",
        "     print(X.shape, y.shape)\n",
        "     break"
      ],
      "execution_count": 16,
      "outputs": [
        {
          "output_type": "stream",
          "text": [
            "torch.Size([10, 3, 80, 80]) torch.Size([10, 80, 80])\n"
          ],
          "name": "stdout"
        }
      ]
    },
    {
      "cell_type": "code",
      "metadata": {
        "id": "uhEoqOnEJ6cz",
        "colab_type": "code",
        "colab": {
          "base_uri": "https://localhost:8080/",
          "height": 1000
        },
        "outputId": "db0ca397-dc65-4386-c08b-50bb33cfda41"
      },
      "source": [
        "iters = []\n",
        "train_losses = []\n",
        "val_losses = []\n",
        "\n",
        "it = 0\n",
        "min_loss = np.inf\n",
        "\n",
        "model.train()\n",
        "for epoch in range(param.epochs):\n",
        "    print(f'epoch {epoch}')\n",
        "    for i, (X, y) in enumerate(train_dl):\n",
        "        optim.zero_grad()\n",
        "        #print(f\"batch {i}, {X.shape, y.shape} \")\n",
        "        X = Variable(X).cuda()  # [N, 1, H, W]\n",
        "        #print('X',X.shape)\n",
        "        y = Variable(y).cuda()  # [N, H, W] with class indices (0, 1)\n",
        "        #print('y',y.shape)\n",
        "        output = model(X)  # [N, 2, H, W]\n",
        "        #print('output',output.shape)\n",
        "        loss = F.cross_entropy(output, y)\n",
        "        #print('loss',loss)\n",
        "        \n",
        "        loss.backward()\n",
        "        optim.step()\n",
        "\n",
        "        if (i + 1) % param.log_interval == 0:\n",
        "            it += param.log_interval * param.bs\n",
        "            iters.append(it)\n",
        "            train_losses.append(loss.item())\n",
        "\n",
        "            model.eval()\n",
        "            val_loss = get_loss(val_dl, model)\n",
        "            print('val_loss = ',val_loss)\n",
        "            model.train()\n",
        "            val_losses.append(val_loss)\n",
        "\n",
        "\n",
        "model.eval()\n",
        "val_loss = get_loss(val_dl, model)"
      ],
      "execution_count": 17,
      "outputs": [
        {
          "output_type": "stream",
          "text": [
            "epoch 0\n",
            "val_loss =  0.6033340573310852\n",
            "val_loss =  0.4952062636613846\n",
            "val_loss =  0.35032750070095064\n",
            "val_loss =  0.21336042433977126\n",
            "val_loss =  0.15311190001666547\n",
            "val_loss =  0.1620921002700925\n",
            "val_loss =  0.17033496368676423\n",
            "val_loss =  0.1634618599899113\n",
            "val_loss =  0.15198129266500474\n",
            "val_loss =  0.14804192148149015\n",
            "val_loss =  0.14564380384981632\n",
            "val_loss =  0.14300238471478224\n",
            "val_loss =  0.13570102993398905\n",
            "val_loss =  0.1282778037711978\n",
            "val_loss =  0.1171696868725121\n",
            "val_loss =  0.10740635320544242\n",
            "val_loss =  0.10510202785953879\n",
            "val_loss =  0.0991606512106955\n",
            "val_loss =  0.11383551582694054\n",
            "val_loss =  0.09560242602601647\n",
            "epoch 1\n",
            "val_loss =  0.08874299507588149\n",
            "val_loss =  0.07925502797588706\n",
            "val_loss =  0.07584872208535672\n",
            "val_loss =  0.05650305864401162\n",
            "val_loss =  0.05159476515837014\n",
            "val_loss =  0.0527341571636498\n",
            "val_loss =  0.048289548000320794\n",
            "val_loss =  0.05391383245587349\n",
            "val_loss =  0.045089043909683824\n",
            "val_loss =  0.04560626813909039\n",
            "val_loss =  0.045024395710788666\n",
            "val_loss =  0.044330583233386275\n",
            "val_loss =  0.03961846358142793\n",
            "val_loss =  0.03762616598978639\n",
            "val_loss =  0.03537321591284126\n",
            "val_loss =  0.033485158579424024\n",
            "val_loss =  0.08859648622819805\n",
            "val_loss =  0.04103088062256575\n",
            "val_loss =  0.0403093853732571\n",
            "val_loss =  0.037687338422983885\n",
            "epoch 2\n",
            "val_loss =  0.03406861393013969\n",
            "val_loss =  0.03487585308030248\n",
            "val_loss =  0.03246469561709091\n",
            "val_loss =  0.030534734181128443\n",
            "val_loss =  0.034708607476204634\n",
            "val_loss =  0.029283099377062173\n",
            "val_loss =  0.029054689360782503\n",
            "val_loss =  0.025922882882878185\n",
            "val_loss =  0.025684233848005535\n",
            "val_loss =  0.024188932380639017\n",
            "val_loss =  0.024171235761605202\n",
            "val_loss =  0.02658574571250938\n",
            "val_loss =  0.022612975249649024\n",
            "val_loss =  0.03193674758076668\n",
            "val_loss =  0.028508691891329364\n",
            "val_loss =  0.029370232322253286\n",
            "val_loss =  0.030282539676409214\n",
            "val_loss =  0.022641436895355582\n",
            "val_loss =  0.02258552751154639\n",
            "val_loss =  0.022347601258661597\n"
          ],
          "name": "stdout"
        }
      ]
    },
    {
      "cell_type": "code",
      "metadata": {
        "id": "CJqDwimXJ_bp",
        "colab_type": "code",
        "outputId": "a7557249-3045-437b-efa8-8fcfa4d04e9e",
        "colab": {
          "base_uri": "https://localhost:8080/",
          "height": 264
        }
      },
      "source": [
        "plt.plot(iters, train_losses)\n",
        "plt.plot(iters, val_losses)\n",
        "plt.show()"
      ],
      "execution_count": 18,
      "outputs": [
        {
          "output_type": "display_data",
          "data": {
            "image/png": "[encoded data removed]",
            "text/plain": [
              "<Figure size 432x288 with 1 Axes>"
            ]
          },
          "metadata": {
            "tags": []
          }
        }
      ]
    },
    {
      "cell_type": "code",
      "metadata": {
        "id": "RwnfO3G3KDeb",
        "colab_type": "code",
        "colab": {}
      },
      "source": [
        "i=0\n",
        "model.eval()\n",
        "for X, masks in val_dl:\n",
        "    X = X.cuda()\n",
        "    output = model(X)\n",
        "    if i == 2:\n",
        "        break\n",
        "    i+=1    "
      ],
      "execution_count": 0,
      "outputs": []
    },
    {
      "cell_type": "code",
      "metadata": {
        "id": "gMqV4IG4AGXS",
        "colab_type": "code",
        "colab": {
          "base_uri": "https://localhost:8080/",
          "height": 34
        },
        "outputId": "4761f9b6-7417-42bb-aa0e-02e3361928ab"
      },
      "source": [
        "X.shape"
      ],
      "execution_count": 29,
      "outputs": [
        {
          "output_type": "execute_result",
          "data": {
            "text/plain": [
              "torch.Size([10, 3, 80, 80])"
            ]
          },
          "metadata": {
            "tags": []
          },
          "execution_count": 29
        }
      ]
    },
    {
      "cell_type": "code",
      "metadata": {
        "id": "Ji05x65DVuYu",
        "colab_type": "code",
        "outputId": "7f1ad085-51b6-45a9-e996-dbe4f033856b",
        "colab": {
          "base_uri": "https://localhost:8080/",
          "height": 247
        }
      },
      "source": [
        "num_item = 5\n",
        "image, mask, predicted = X[num_item],  masks[num_item], output[num_item, 1]\n",
        "plt.figure(figsize=(12,4))\n",
        "plt.subplot(131) \n",
        "plt.imshow(image.permute(1,2,0).cpu())\n",
        "plt.subplot(132)\n",
        "plt.imshow(mask.cpu(), cmap='gray')\n",
        "plt.subplot(133)\n",
        "plt.imshow(predicted.detach().cpu(), cmap='gray')\n",
        "plt.show()"
      ],
      "execution_count": 30,
      "outputs": [
        {
          "output_type": "display_data",
          "data": {
            "image/png": "[encoded data removed]",
            "text/plain": [
              "<Figure size 864x288 with 3 Axes>"
            ]
          },
          "metadata": {
            "tags": []
          }
        }
      ]
    },
    {
      "cell_type": "code",
      "metadata": {
        "id": "1FPBuYApWIXq",
        "colab_type": "code",
        "colab": {
          "base_uri": "https://localhost:8080/",
          "height": 247
        },
        "outputId": "8b80b92b-7d81-46e2-ff64-2e06837ab7f1"
      },
      "source": [
        "num_item = 0\n",
        "image, mask, predicted = X[num_item],  masks[num_item], output[num_item, 1]\n",
        "plt.figure(figsize=(12,4))\n",
        "plt.subplot(131) \n",
        "plt.imshow(image.permute(1,2,0).cpu())\n",
        "plt.subplot(132)\n",
        "plt.imshow(mask.cpu(), cmap='gray')\n",
        "plt.subplot(133)\n",
        "plt.imshow(predicted.detach().cpu(), cmap='gray')\n",
        "plt.show()"
      ],
      "execution_count": 31,
      "outputs": [
        {
          "output_type": "display_data",
          "data": {
            "image/png": "[encoded data removed]",
            "text/plain": [
              "<Figure size 864x288 with 3 Axes>"
            ]
          },
          "metadata": {
            "tags": []
          }
        }
      ]
    },
    {
      "cell_type": "code",
      "metadata": {
        "id": "_U4mejDZsxo6",
        "colab_type": "code",
        "colab": {
          "base_uri": "https://localhost:8080/",
          "height": 247
        },
        "outputId": "091860dd-0ef8-4afa-c469-a6e7ca684c1e"
      },
      "source": [
        "num_item = 9\n",
        "image, mask, predicted = X[num_item],  masks[num_item], output[num_item, 1]\n",
        "plt.figure(figsize=(12,4))\n",
        "plt.subplot(131) \n",
        "plt.imshow(image.permute(1,2,0).cpu())\n",
        "plt.subplot(132)\n",
        "plt.imshow(mask.cpu(), cmap='gray')\n",
        "plt.subplot(133)\n",
        "plt.imshow(predicted.detach().cpu(), cmap='gray')\n",
        "plt.show()"
      ],
      "execution_count": 32,
      "outputs": [
        {
          "output_type": "display_data",
          "data": {
            "image/png": "[encoded data removed]",
            "text/plain": [
              "<Figure size 864x288 with 3 Axes>"
            ]
          },
          "metadata": {
            "tags": []
          }
        }
      ]
    },
    {
      "cell_type": "code",
      "metadata": {
        "id": "bVBkIftjszlY",
        "colab_type": "code",
        "colab": {}
      },
      "source": [
        ""
      ],
      "execution_count": 0,
      "outputs": []
    }
  ]
}