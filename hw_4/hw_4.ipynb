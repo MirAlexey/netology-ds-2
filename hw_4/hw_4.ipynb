{
  "nbformat": 4,
  "nbformat_minor": 0,
  "metadata": {
    "colab": {
      "name": "road_signs.ipynb",
      "provenance": [],
      "collapsed_sections": []
    },
    "kernelspec": {
      "name": "python3",
      "display_name": "Python 3"
    },
    "accelerator": "GPU"
  },
  "cells": [
    {
      "cell_type": "code",
      "metadata": {
        "id": "Skfj59WfnzG-",
        "colab_type": "code",
        "colab": {}
      },
      "source": [
        "import torch\n",
        "from torch import nn\n",
        "import torchvision as tv\n",
        "from torchvision import datasets, models, transforms\n",
        "import time"
      ],
      "execution_count": 0,
      "outputs": []
    },
    {
      "cell_type": "code",
      "metadata": {
        "id": "J2sXouIARjoG",
        "colab_type": "code",
        "outputId": "2cc264ff-73ed-44b4-daeb-26cb0fe3c76c",
        "colab": {
          "base_uri": "https://localhost:8080/",
          "height": 122
        }
      },
      "source": [
        "from google.colab import drive\n",
        "drive.mount('/content/drive', force_remount=True)"
      ],
      "execution_count": 0,
      "outputs": [
        {
          "output_type": "stream",
          "text": [
            "Go to this URL in a browser: https://accounts.google.com/o/oauth2/auth?client_id=947318989803-6bn6qk8qdgf4n4g3pfee6491hc0brc4i.apps.googleusercontent.com&redirect_uri=urn%3aietf%3awg%3aoauth%3a2.0%3aoob&response_type=code&scope=email%20https%3a%2f%2fwww.googleapis.com%2fauth%2fdocs.test%20https%3a%2f%2fwww.googleapis.com%2fauth%2fdrive%20https%3a%2f%2fwww.googleapis.com%2fauth%2fdrive.photos.readonly%20https%3a%2f%2fwww.googleapis.com%2fauth%2fpeopleapi.readonly\n",
            "\n",
            "Enter your authorization code:\n",
            "··········\n",
            "Mounted at /content/drive\n"
          ],
          "name": "stdout"
        }
      ]
    },
    {
      "cell_type": "code",
      "metadata": {
        "id": "TRnPi5i28zxZ",
        "colab_type": "code",
        "outputId": "76177f59-ba5b-4c61-beba-94305acc7063",
        "colab": {
          "base_uri": "https://localhost:8080/",
          "height": 34
        }
      },
      "source": [
        "!ls drive/My\\ Drive/road_sign"
      ],
      "execution_count": 0,
      "outputs": [
        {
          "output_type": "stream",
          "text": [
            "test  train  TsignRecgTest1994Annotation.txt  TsignRecgTrain4170Annotation.txt\n"
          ],
          "name": "stdout"
        }
      ]
    },
    {
      "cell_type": "code",
      "metadata": {
        "id": "cmSf63-1n44p",
        "colab_type": "code",
        "colab": {}
      },
      "source": [
        "data_transform = transforms.Compose([\n",
        "        transforms.Resize((224,224)),                             \n",
        "        transforms.RandomResizedCrop((224,224), scale=(0.8,1), ratio=(1,1)),\n",
        "        \n",
        "        transforms.ToTensor(),\n",
        "        transforms.Normalize(mean=[0.485, 0.456, 0.406],\n",
        "                             std=[0.229, 0.224, 0.225])\n",
        "    ])\n",
        "data_transform_32 = transforms.Compose([\n",
        "        transforms.Resize((32,32)),                             \n",
        "       # transforms.RandomResizedCrop(28, scale=(0.9,1), ratio=(0.9,1.1)),\n",
        "        \n",
        "        transforms.ToTensor(),\n",
        "        transforms.Normalize(mean=[0.485, 0.456, 0.406],\n",
        "                             std=[0.229, 0.224, 0.225])\n",
        "    ])\n",
        "\n",
        "road_sign_dataset_train = datasets.ImageFolder(root='drive/My Drive/road_sign/train',\n",
        "                                           transform=data_transform)\n",
        "dataset_train_loader = torch.utils.data.DataLoader(road_sign_dataset_train,\n",
        "                                             batch_size=32, shuffle=True)\n",
        "\n",
        "road_sign_dataset_test = datasets.ImageFolder(root='drive/My Drive/road_sign/test',\n",
        "                                           transform=data_transform)\n",
        "dataset_test_loader = torch.utils.data.DataLoader(road_sign_dataset_test,\n",
        "                                             batch_size=32, shuffle=True)\n",
        "\n",
        "\n",
        "road_sign_dataset_train_32 = datasets.ImageFolder(root='drive/My Drive/road_sign/train',\n",
        "                                           transform=data_transform_32)\n",
        "dataset_train_loader_32 = torch.utils.data.DataLoader(road_sign_dataset_train_32,\n",
        "                                             batch_size=64, shuffle=True)\n",
        "\n",
        "road_sign_dataset_test_32 = datasets.ImageFolder(root='drive/My Drive/road_sign/test',\n",
        "                                           transform=data_transform_32)\n",
        "dataset_test_loader_32 = torch.utils.data.DataLoader(road_sign_dataset_test_32,\n",
        "                                             batch_size=64, shuffle=True)"
      ],
      "execution_count": 0,
      "outputs": []
    },
    {
      "cell_type": "code",
      "metadata": {
        "id": "hj88Jw93XoYv",
        "colab_type": "code",
        "colab": {}
      },
      "source": [
        ""
      ],
      "execution_count": 0,
      "outputs": []
    },
    {
      "cell_type": "code",
      "metadata": {
        "id": "ifPpG6JfoJfm",
        "colab_type": "code",
        "colab": {}
      },
      "source": [
        "model = torch.nn.Sequential(\n",
        "    torch.nn.Conv2d(3, 12, kernel_size=3),\n",
        "    torch.nn.ReLU(),\n",
        "    torch.nn.MaxPool2d(kernel_size=3, stride=2),\n",
        "    torch.nn.Conv2d(12, 36, kernel_size=2),\n",
        "    torch.nn.ReLU(),\n",
        "    torch.nn.MaxPool2d(kernel_size=2),\n",
        "    torch.nn.Flatten(),\n",
        "    torch.nn.Linear(1296, 256),\n",
        "    torch.nn.BatchNorm1d(256),\n",
        "    torch.nn.ReLU(),\n",
        "    torch.nn.Linear(256, 58)\n",
        ")"
      ],
      "execution_count": 0,
      "outputs": []
    },
    {
      "cell_type": "code",
      "metadata": {
        "id": "ok_92CLoggPG",
        "colab_type": "code",
        "colab": {}
      },
      "source": [
        "for X, y in dataset_train_loader_28:\n",
        "    break"
      ],
      "execution_count": 0,
      "outputs": []
    },
    {
      "cell_type": "code",
      "metadata": {
        "id": "1Otl4F5WYShV",
        "colab_type": "code",
        "outputId": "7ebc5ed2-2bac-42e8-b437-867e379603eb",
        "colab": {
          "base_uri": "https://localhost:8080/",
          "height": 34
        }
      },
      "source": [
        "for X, y in dataset_train_loader_32:\n",
        "   print(X.shape,y.shape)\n",
        "   break"
      ],
      "execution_count": 0,
      "outputs": [
        {
          "output_type": "stream",
          "text": [
            "torch.Size([4, 3, 28, 28]) torch.Size([4])\n"
          ],
          "name": "stdout"
        }
      ]
    },
    {
      "cell_type": "code",
      "metadata": {
        "id": "cbJKBM3ibhFy",
        "colab_type": "code",
        "outputId": "1349239e-8ad8-4e9f-d731-ec8597c85e1b",
        "colab": {
          "base_uri": "https://localhost:8080/",
          "height": 187
        }
      },
      "source": [
        "X_ = X\n",
        "for m in model:\n",
        "  X_ = m(X_)\n",
        "  print(X_.shape)"
      ],
      "execution_count": 0,
      "outputs": [
        {
          "output_type": "stream",
          "text": [
            "torch.Size([4, 18, 28, 28])\n",
            "torch.Size([4, 18, 28, 28])\n",
            "torch.Size([4, 18, 14, 14])\n",
            "torch.Size([4, 36, 10, 10])\n",
            "torch.Size([4, 36, 10, 10])\n",
            "torch.Size([4, 36, 5, 5])\n",
            "torch.Size([4, 900])\n",
            "torch.Size([4, 600])\n",
            "torch.Size([4, 600])\n",
            "torch.Size([4, 58])\n"
          ],
          "name": "stdout"
        }
      ]
    },
    {
      "cell_type": "markdown",
      "metadata": {
        "id": "sRRVVHkronWL",
        "colab_type": "text"
      },
      "source": [
        "## Модель и обучение"
      ]
    },
    {
      "cell_type": "code",
      "metadata": {
        "id": "bedEDv9_oqAO",
        "colab_type": "code",
        "colab": {}
      },
      "source": [
        "dev = torch.device(\"cuda\") if torch.cuda.is_available() else torch.device(\"cpu\")"
      ],
      "execution_count": 0,
      "outputs": []
    },
    {
      "cell_type": "code",
      "metadata": {
        "id": "L1Ux06I6fg6C",
        "colab_type": "code",
        "outputId": "f2c1ce4e-b6e5-4c65-f33a-80ffc3754247",
        "colab": {
          "base_uri": "https://localhost:8080/",
          "height": 34
        }
      },
      "source": [
        "dev "
      ],
      "execution_count": 0,
      "outputs": [
        {
          "output_type": "execute_result",
          "data": {
            "text/plain": [
              "device(type='cuda')"
            ]
          },
          "metadata": {
            "tags": []
          },
          "execution_count": 6
        }
      ]
    },
    {
      "cell_type": "code",
      "metadata": {
        "id": "dQK_zxLugie7",
        "colab_type": "code",
        "colab": {}
      },
      "source": [
        "model = model.to(dev)"
      ],
      "execution_count": 0,
      "outputs": []
    },
    {
      "cell_type": "code",
      "metadata": {
        "id": "-hWp8NOmo23s",
        "colab_type": "code",
        "colab": {}
      },
      "source": [
        "def evaluate_accuracy(data_iter, net, dev):\n",
        "    acc_sum, n = torch.Tensor([0]).to(dev), 0\n",
        "    for X, y in data_iter:\n",
        "        X, y = X.to(dev), y.to(dev)\n",
        "        acc_sum += (net(X).argmax(axis=1) == y).sum()\n",
        "        n += y.shape[0]\n",
        "    return acc_sum.item() / n"
      ],
      "execution_count": 0,
      "outputs": []
    },
    {
      "cell_type": "code",
      "metadata": {
        "id": "mPhZyimwo34u",
        "colab_type": "code",
        "colab": {}
      },
      "source": [
        "def train(net, train_iter, test_iter, trainer, num_epochs, dev):\n",
        "    loss = nn.CrossEntropyLoss(reduction='sum')\n",
        "    for epoch in range(num_epochs):\n",
        "        train_l_sum, train_acc_sum, n, start = 0.0, 0.0, 0, time.time()\n",
        "        for X, y in train_iter:\n",
        "            trainer.zero_grad()\n",
        "            X, y = X.to(dev), y.to(dev)\n",
        "            y_hat = net(X)\n",
        "            l = loss(y_hat, y)\n",
        "            l.backward()\n",
        "            trainer.step()\n",
        "            train_l_sum += l.item()\n",
        "            train_acc_sum += (y_hat.argmax(axis=1) == y).sum().item()\n",
        "            n += y.shape[0]\n",
        "        test_acc = evaluate_accuracy(test_iter, net, dev)\n",
        "        print('epoch %d, loss %.4f, train acc %.3f, test acc %.3f, '\n",
        "              'time %.1f sec'\n",
        "              % (epoch + 1, train_l_sum / n, train_acc_sum / n, test_acc,\n",
        "                 time.time() - start))"
      ],
      "execution_count": 0,
      "outputs": []
    },
    {
      "cell_type": "code",
      "metadata": {
        "id": "kVQAvKWMoz6C",
        "colab_type": "code",
        "outputId": "ce44cabf-f90d-4099-f678-8c30581d76df",
        "colab": {
          "base_uri": "https://localhost:8080/",
          "height": 357
        }
      },
      "source": [
        "lr, num_epochs = 0.005, 20\n",
        "trainer = torch.optim.AdamW(model.parameters(), lr=lr)\n",
        "train(model, dataset_train_loader_32, dataset_test_loader_32, trainer, num_epochs, dev)"
      ],
      "execution_count": 0,
      "outputs": [
        {
          "output_type": "stream",
          "text": [
            "epoch 1, loss 1.0103, train acc 0.759, test acc 0.225, time 1431.0 sec\n",
            "epoch 2, loss 0.1200, train acc 0.974, test acc 0.227, time 15.3 sec\n",
            "epoch 3, loss 0.0201, train acc 0.997, test acc 0.231, time 14.8 sec\n",
            "epoch 4, loss 0.0057, train acc 1.000, test acc 0.229, time 14.7 sec\n",
            "epoch 5, loss 0.0024, train acc 1.000, test acc 0.228, time 15.3 sec\n",
            "epoch 6, loss 0.0010, train acc 1.000, test acc 0.232, time 14.6 sec\n",
            "epoch 7, loss 0.0009, train acc 1.000, test acc 0.233, time 14.5 sec\n",
            "epoch 8, loss 0.0008, train acc 1.000, test acc 0.230, time 14.4 sec\n",
            "epoch 9, loss 0.0005, train acc 1.000, test acc 0.232, time 14.5 sec\n",
            "epoch 10, loss 0.0004, train acc 1.000, test acc 0.232, time 14.3 sec\n",
            "epoch 11, loss 0.0004, train acc 1.000, test acc 0.233, time 14.3 sec\n",
            "epoch 12, loss 0.0004, train acc 1.000, test acc 0.234, time 14.2 sec\n",
            "epoch 13, loss 0.0003, train acc 1.000, test acc 0.234, time 14.2 sec\n",
            "epoch 14, loss 0.0003, train acc 1.000, test acc 0.232, time 14.1 sec\n",
            "epoch 15, loss 0.0002, train acc 1.000, test acc 0.231, time 13.9 sec\n",
            "epoch 16, loss 0.0002, train acc 1.000, test acc 0.226, time 14.5 sec\n",
            "epoch 17, loss 0.0002, train acc 1.000, test acc 0.229, time 14.0 sec\n",
            "epoch 18, loss 0.0002, train acc 1.000, test acc 0.233, time 13.8 sec\n",
            "epoch 19, loss 0.0002, train acc 1.000, test acc 0.231, time 13.7 sec\n",
            "epoch 20, loss 0.0002, train acc 1.000, test acc 0.228, time 13.6 sec\n"
          ],
          "name": "stdout"
        }
      ]
    },
    {
      "cell_type": "code",
      "metadata": {
        "id": "TrnN4EK3_Cy2",
        "colab_type": "code",
        "colab": {}
      },
      "source": [
        "# Попробуем резнет50"
      ],
      "execution_count": 0,
      "outputs": []
    },
    {
      "cell_type": "code",
      "metadata": {
        "id": "3Hssi8JE_DhT",
        "colab_type": "code",
        "outputId": "65e8055c-7f05-462f-9b5a-3371cc0caf4e",
        "colab": {
          "base_uri": "https://localhost:8080/",
          "height": 34
        }
      },
      "source": [
        "model_ft = models.resnet50(pretrained=True)\n",
        "\n",
        "num_ftrs = model_ft.fc.in_features\n",
        "\n",
        "for param in model_ft.parameters():\n",
        "    param.requires_grad = False\n",
        "\n",
        "num_ftrs"
      ],
      "execution_count": 0,
      "outputs": [
        {
          "output_type": "execute_result",
          "data": {
            "text/plain": [
              "2048"
            ]
          },
          "metadata": {
            "tags": []
          },
          "execution_count": 48
        }
      ]
    },
    {
      "cell_type": "code",
      "metadata": {
        "id": "nOqK34vVCaZM",
        "colab_type": "code",
        "colab": {}
      },
      "source": [
        "model_ft.fc = nn.Sequential(\n",
        "   \n",
        "    nn.Linear(num_ftrs, 1024),\n",
        "    nn.ReLU(),\n",
        "    nn.BatchNorm1d(1024),\n",
        "    nn.Dropout(0.1),\n",
        "\n",
        "    nn.Linear(1024, 512),\n",
        "    nn.ReLU(),\n",
        "    nn.BatchNorm1d(512),\n",
        "    nn.Dropout(0.1),\n",
        "\n",
        "    nn.Linear(512, 256),\n",
        "    nn.ReLU(),\n",
        "    nn.BatchNorm1d(256),\n",
        "    nn.Dropout(0.1),\n",
        "    \n",
        "    nn.Linear(256, 58)\n",
        ")    \n",
        "\n"
      ],
      "execution_count": 0,
      "outputs": []
    },
    {
      "cell_type": "code",
      "metadata": {
        "id": "yWnqCvjN_j04",
        "colab_type": "code",
        "outputId": "4dfe892a-2b80-40d4-a7a3-297a70ae1d24",
        "colab": {
          "base_uri": "https://localhost:8080/",
          "height": 34
        }
      },
      "source": [
        "for X, y in dataset_train_loader:\n",
        "   print(X.shape,y.shape)\n",
        "   break"
      ],
      "execution_count": 0,
      "outputs": [
        {
          "output_type": "stream",
          "text": [
            "torch.Size([4, 3, 224, 224]) torch.Size([4])\n"
          ],
          "name": "stdout"
        }
      ]
    },
    {
      "cell_type": "code",
      "metadata": {
        "id": "N1LwBTJU_j7M",
        "colab_type": "code",
        "colab": {}
      },
      "source": [
        "model_ft = model_ft.to(dev)"
      ],
      "execution_count": 0,
      "outputs": []
    },
    {
      "cell_type": "code",
      "metadata": {
        "id": "r575ZUf4UZpd",
        "colab_type": "code",
        "outputId": "246f7c35-dbeb-474c-8e7d-c0f8c33c8afb",
        "colab": {
          "base_uri": "https://localhost:8080/",
          "height": 34
        }
      },
      "source": [
        "model_ft.layer4.parameters()"
      ],
      "execution_count": 0,
      "outputs": [
        {
          "output_type": "execute_result",
          "data": {
            "text/plain": [
              "<generator object Module.parameters at 0x7fac965a2780>"
            ]
          },
          "metadata": {
            "tags": []
          },
          "execution_count": 56
        }
      ]
    },
    {
      "cell_type": "code",
      "metadata": {
        "id": "6ls5F8Gx_DkR",
        "colab_type": "code",
        "outputId": "5e2355b7-d792-441a-c005-4ca0dc87c978",
        "colab": {
          "base_uri": "https://localhost:8080/",
          "height": 357
        }
      },
      "source": [
        "lr, num_epochs = 0.01, 20\n",
        "trainer = torch.optim.Adamax(model_ft.parameters(), lr=lr)\n",
        "train(model_ft, dataset_train_loader, dataset_test_loader, trainer, num_epochs, dev)"
      ],
      "execution_count": 0,
      "outputs": [
        {
          "output_type": "stream",
          "text": [
            "epoch 1, loss 1.1163, train acc 0.703, test acc 0.139, time 39.5 sec\n",
            "epoch 2, loss 0.3983, train acc 0.879, test acc 0.130, time 39.7 sec\n",
            "epoch 3, loss 0.2377, train acc 0.926, test acc 0.149, time 39.4 sec\n",
            "epoch 4, loss 0.1586, train acc 0.949, test acc 0.136, time 39.7 sec\n",
            "epoch 5, loss 0.1303, train acc 0.963, test acc 0.142, time 39.6 sec\n",
            "epoch 6, loss 0.1233, train acc 0.958, test acc 0.154, time 39.9 sec\n",
            "epoch 7, loss 0.1308, train acc 0.957, test acc 0.141, time 39.7 sec\n",
            "epoch 8, loss 0.0977, train acc 0.969, test acc 0.151, time 40.1 sec\n",
            "epoch 9, loss 0.0977, train acc 0.970, test acc 0.148, time 39.7 sec\n",
            "epoch 10, loss 0.0934, train acc 0.969, test acc 0.148, time 39.9 sec\n",
            "epoch 11, loss 0.0694, train acc 0.978, test acc 0.158, time 39.8 sec\n",
            "epoch 12, loss 0.0632, train acc 0.977, test acc 0.160, time 39.7 sec\n",
            "epoch 13, loss 0.0676, train acc 0.980, test acc 0.163, time 39.3 sec\n",
            "epoch 14, loss 0.0624, train acc 0.979, test acc 0.139, time 40.4 sec\n",
            "epoch 15, loss 0.0785, train acc 0.978, test acc 0.143, time 39.8 sec\n",
            "epoch 16, loss 0.0599, train acc 0.981, test acc 0.155, time 39.7 sec\n",
            "epoch 17, loss 0.0658, train acc 0.981, test acc 0.138, time 40.1 sec\n",
            "epoch 18, loss 0.0565, train acc 0.980, test acc 0.160, time 39.6 sec\n",
            "epoch 19, loss 0.0370, train acc 0.988, test acc 0.154, time 39.9 sec\n",
            "epoch 20, loss 0.0500, train acc 0.982, test acc 0.143, time 40.0 sec\n"
          ],
          "name": "stdout"
        }
      ]
    },
    {
      "cell_type": "code",
      "metadata": {
        "id": "RGNLYznQ_DnV",
        "colab_type": "code",
        "outputId": "024e00de-5231-4609-a680-3f8e86137bdb",
        "colab": {
          "base_uri": "https://localhost:8080/",
          "height": 102
        }
      },
      "source": [
        "lr, num_epochs = 0.001, 5\n",
        "for param in model_ft.layer4.parameters():\n",
        "    param.requires_grad = True\n",
        "    \n",
        "trainer = torch.optim.SGD([\n",
        "                {'params': model_ft.layer4.parameters(), 'lr': lr/100},\n",
        "                {'params': model_ft.fc.parameters()}\n",
        "            ], lr=lr, momentum=0.9)\n",
        "train(model_ft, dataset_train_loader, dataset_test_loader, trainer, num_epochs, dev)"
      ],
      "execution_count": 0,
      "outputs": [
        {
          "output_type": "stream",
          "text": [
            "epoch 1, loss 0.0171, train acc 0.995, test acc 0.170, time 43.6 sec\n",
            "epoch 2, loss 0.0126, train acc 0.996, test acc 0.175, time 43.8 sec\n",
            "epoch 3, loss 0.0141, train acc 0.994, test acc 0.175, time 44.2 sec\n",
            "epoch 4, loss 0.0109, train acc 0.997, test acc 0.163, time 44.0 sec\n",
            "epoch 5, loss 0.0078, train acc 0.998, test acc 0.164, time 44.3 sec\n"
          ],
          "name": "stdout"
        }
      ]
    },
    {
      "cell_type": "code",
      "metadata": {
        "id": "K61AaaO5MUBV",
        "colab_type": "code",
        "outputId": "4acdd6c6-738c-43ba-f700-e1ed63a37e18",
        "colab": {
          "base_uri": "https://localhost:8080/",
          "height": 187
        }
      },
      "source": [
        "lr, num_epochs = 0.0001, 10\n",
        "trainer = torch.optim.SGD([\n",
        "                {'params': model_ft.layer4.parameters(), 'lr': lr/100},\n",
        "                {'params': model_ft.fc.parameters()}\n",
        "            ], lr=lr, momentum=0.9)\n",
        "train(model_ft, dataset_train_loader, dataset_test_loader, trainer, num_epochs, dev)"
      ],
      "execution_count": 0,
      "outputs": [
        {
          "output_type": "stream",
          "text": [
            "epoch 1, loss 0.0031, train acc 0.999, test acc 0.158, time 44.5 sec\n",
            "epoch 2, loss 0.0066, train acc 0.998, test acc 0.159, time 44.2 sec\n",
            "epoch 3, loss 0.0056, train acc 0.999, test acc 0.164, time 44.2 sec\n",
            "epoch 4, loss 0.0035, train acc 1.000, test acc 0.169, time 44.4 sec\n",
            "epoch 5, loss 0.0049, train acc 0.999, test acc 0.170, time 44.7 sec\n",
            "epoch 6, loss 0.0037, train acc 0.999, test acc 0.163, time 44.9 sec\n",
            "epoch 7, loss 0.0039, train acc 1.000, test acc 0.165, time 45.2 sec\n",
            "epoch 8, loss 0.0039, train acc 0.999, test acc 0.169, time 44.4 sec\n",
            "epoch 9, loss 0.0027, train acc 0.999, test acc 0.162, time 44.3 sec\n",
            "epoch 10, loss 0.0031, train acc 0.999, test acc 0.170, time 44.4 sec\n"
          ],
          "name": "stdout"
        }
      ]
    },
    {
      "cell_type": "code",
      "metadata": {
        "id": "Mgb6bK_ZWBmy",
        "colab_type": "code",
        "colab": {}
      },
      "source": [
        "# Возможная причина низкого скора на тесте дисбаланс классов"
      ],
      "execution_count": 0,
      "outputs": []
    },
    {
      "cell_type": "code",
      "metadata": {
        "id": "3Zo3UheUcPlG",
        "colab_type": "code",
        "colab": {}
      },
      "source": [
        ""
      ],
      "execution_count": 0,
      "outputs": []
    }
  ]
}