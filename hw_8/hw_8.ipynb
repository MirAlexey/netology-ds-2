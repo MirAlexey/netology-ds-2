{
 "cells": [
  {
   "cell_type": "code",
   "execution_count": 0,
   "metadata": {
    "colab": {},
    "colab_type": "code",
    "id": "HiM6kiuahjau"
   },
   "outputs": [],
   "source": [
    "import pandas as pd"
   ]
  },
  {
   "cell_type": "code",
   "execution_count": 0,
   "metadata": {
    "colab": {
     "base_uri": "https://localhost:8080/",
     "height": 125
    },
    "colab_type": "code",
    "id": "0QBXbgdC_aPx",
    "outputId": "4f3df9f8-11b2-48da-a90d-c9a1207e1c02"
   },
   "outputs": [
    {
     "name": "stdout",
     "output_type": "stream",
     "text": [
      "Go to this URL in a browser: https://accounts.google.com/o/oauth2/auth?client_id=947318989803-6bn6qk8qdgf4n4g3pfee6491hc0brc4i.apps.googleusercontent.com&redirect_uri=urn%3aietf%3awg%3aoauth%3a2.0%3aoob&response_type=code&scope=email%20https%3a%2f%2fwww.googleapis.com%2fauth%2fdocs.test%20https%3a%2f%2fwww.googleapis.com%2fauth%2fdrive%20https%3a%2f%2fwww.googleapis.com%2fauth%2fdrive.photos.readonly%20https%3a%2f%2fwww.googleapis.com%2fauth%2fpeopleapi.readonly\n",
      "\n",
      "Enter your authorization code:\n",
      "··········\n",
      "Mounted at /content/drive\n"
     ]
    }
   ],
   "source": [
    "from google.colab import drive\n",
    "drive.mount('/content/drive')"
   ]
  },
  {
   "cell_type": "code",
   "execution_count": 0,
   "metadata": {
    "colab": {
     "base_uri": "https://localhost:8080/",
     "height": 197
    },
    "colab_type": "code",
    "id": "8egpYGSSh3p3",
    "outputId": "3f01025b-d11f-44aa-bb12-57b7c6a3f4ba"
   },
   "outputs": [
    {
     "data": {
      "text/html": [
       "<div>\n",
       "<style scoped>\n",
       "    .dataframe tbody tr th:only-of-type {\n",
       "        vertical-align: middle;\n",
       "    }\n",
       "\n",
       "    .dataframe tbody tr th {\n",
       "        vertical-align: top;\n",
       "    }\n",
       "\n",
       "    .dataframe thead th {\n",
       "        text-align: right;\n",
       "    }\n",
       "</style>\n",
       "<table border=\"1\" class=\"dataframe\">\n",
       "  <thead>\n",
       "    <tr style=\"text-align: right;\">\n",
       "      <th></th>\n",
       "      <th>ItemID</th>\n",
       "      <th>Sentiment</th>\n",
       "      <th>SentimentText</th>\n",
       "    </tr>\n",
       "  </thead>\n",
       "  <tbody>\n",
       "    <tr>\n",
       "      <th>0</th>\n",
       "      <td>1</td>\n",
       "      <td>0</td>\n",
       "      <td>is so sad for my APL frie...</td>\n",
       "    </tr>\n",
       "    <tr>\n",
       "      <th>1</th>\n",
       "      <td>2</td>\n",
       "      <td>0</td>\n",
       "      <td>I missed the New Moon trail...</td>\n",
       "    </tr>\n",
       "    <tr>\n",
       "      <th>2</th>\n",
       "      <td>3</td>\n",
       "      <td>1</td>\n",
       "      <td>omg its already 7:30 :O</td>\n",
       "    </tr>\n",
       "    <tr>\n",
       "      <th>3</th>\n",
       "      <td>4</td>\n",
       "      <td>0</td>\n",
       "      <td>.. Omgaga. Im sooo  im gunna CRy. I'...</td>\n",
       "    </tr>\n",
       "    <tr>\n",
       "      <th>4</th>\n",
       "      <td>5</td>\n",
       "      <td>0</td>\n",
       "      <td>i think mi bf is cheating on me!!!   ...</td>\n",
       "    </tr>\n",
       "  </tbody>\n",
       "</table>\n",
       "</div>"
      ],
      "text/plain": [
       "   ItemID  Sentiment                                      SentimentText\n",
       "0       1          0                       is so sad for my APL frie...\n",
       "1       2          0                     I missed the New Moon trail...\n",
       "2       3          1                            omg its already 7:30 :O\n",
       "3       4          0            .. Omgaga. Im sooo  im gunna CRy. I'...\n",
       "4       5          0           i think mi bf is cheating on me!!!   ..."
      ]
     },
     "execution_count": 7,
     "metadata": {
      "tags": []
     },
     "output_type": "execute_result"
    }
   ],
   "source": [
    "df_train = pd.read_csv('./drive/My Drive/dl_1_hw_8/train.csv', encoding='ISO-8859-1')\n",
    "df_train.head()"
   ]
  },
  {
   "cell_type": "code",
   "execution_count": 0,
   "metadata": {
    "colab": {
     "base_uri": "https://localhost:8080/",
     "height": 197
    },
    "colab_type": "code",
    "id": "yc3aNWo-CcDm",
    "outputId": "4cc065cc-bc8f-4e81-88fc-9f13082defc3"
   },
   "outputs": [
    {
     "data": {
      "text/html": [
       "<div>\n",
       "<style scoped>\n",
       "    .dataframe tbody tr th:only-of-type {\n",
       "        vertical-align: middle;\n",
       "    }\n",
       "\n",
       "    .dataframe tbody tr th {\n",
       "        vertical-align: top;\n",
       "    }\n",
       "\n",
       "    .dataframe thead th {\n",
       "        text-align: right;\n",
       "    }\n",
       "</style>\n",
       "<table border=\"1\" class=\"dataframe\">\n",
       "  <thead>\n",
       "    <tr style=\"text-align: right;\">\n",
       "      <th></th>\n",
       "      <th>ItemID</th>\n",
       "      <th>Sentiment</th>\n",
       "      <th>SentimentText</th>\n",
       "    </tr>\n",
       "  </thead>\n",
       "  <tbody>\n",
       "    <tr>\n",
       "      <th>0</th>\n",
       "      <td>1</td>\n",
       "      <td>0</td>\n",
       "      <td>is so sad for my APL frie...</td>\n",
       "    </tr>\n",
       "    <tr>\n",
       "      <th>1</th>\n",
       "      <td>2</td>\n",
       "      <td>0</td>\n",
       "      <td>I missed the New Moon trail...</td>\n",
       "    </tr>\n",
       "    <tr>\n",
       "      <th>2</th>\n",
       "      <td>3</td>\n",
       "      <td>1</td>\n",
       "      <td>omg its already 7:30 :O</td>\n",
       "    </tr>\n",
       "    <tr>\n",
       "      <th>3</th>\n",
       "      <td>4</td>\n",
       "      <td>0</td>\n",
       "      <td>.. Omgaga. Im sooo  im gunna CRy. I'...</td>\n",
       "    </tr>\n",
       "    <tr>\n",
       "      <th>4</th>\n",
       "      <td>5</td>\n",
       "      <td>0</td>\n",
       "      <td>i think mi bf is cheating on me!!!   ...</td>\n",
       "    </tr>\n",
       "  </tbody>\n",
       "</table>\n",
       "</div>"
      ],
      "text/plain": [
       "   ItemID  Sentiment                                      SentimentText\n",
       "0       1          0                       is so sad for my APL frie...\n",
       "1       2          0                     I missed the New Moon trail...\n",
       "2       3          1                            omg its already 7:30 :O\n",
       "3       4          0            .. Omgaga. Im sooo  im gunna CRy. I'...\n",
       "4       5          0           i think mi bf is cheating on me!!!   ..."
      ]
     },
     "execution_count": 8,
     "metadata": {
      "tags": []
     },
     "output_type": "execute_result"
    }
   ],
   "source": [
    "df_test = pd.read_csv('./drive/My Drive/dl_1_hw_8/train.csv', encoding='ISO-8859-1')\n",
    "df_test.head()"
   ]
  },
  {
   "cell_type": "code",
   "execution_count": 0,
   "metadata": {
    "colab": {
     "base_uri": "https://localhost:8080/",
     "height": 70
    },
    "colab_type": "code",
    "id": "DZSd4HKPCn9-",
    "outputId": "ae749e13-0462-4b19-a196-76e9b8e436ec"
   },
   "outputs": [
    {
     "data": {
      "text/plain": [
       "1    56457\n",
       "0    43532\n",
       "Name: Sentiment, dtype: int64"
      ]
     },
     "execution_count": 9,
     "metadata": {
      "tags": []
     },
     "output_type": "execute_result"
    }
   ],
   "source": [
    "df_train['Sentiment'].value_counts()"
   ]
  },
  {
   "cell_type": "code",
   "execution_count": 0,
   "metadata": {
    "colab": {},
    "colab_type": "code",
    "id": "RM4p5090GUZk"
   },
   "outputs": [],
   "source": [
    "df_train['SentimentText'] = df_train['SentimentText'].apply(lambda x : x.strip().lower())"
   ]
  },
  {
   "cell_type": "code",
   "execution_count": 0,
   "metadata": {
    "colab": {},
    "colab_type": "code",
    "id": "pbecqH8Wigba"
   },
   "outputs": [],
   "source": [
    "X, y = df_train['SentimentText'].tolist(), df_train['Sentiment'].tolist()"
   ]
  },
  {
   "cell_type": "code",
   "execution_count": 0,
   "metadata": {
    "colab": {},
    "colab_type": "code",
    "id": "yjz70PZuILQi"
   },
   "outputs": [],
   "source": [
    "import matplotlib.pyplot as plt\n",
    "%matplotlib inline"
   ]
  },
  {
   "cell_type": "code",
   "execution_count": 0,
   "metadata": {
    "colab": {
     "base_uri": "https://localhost:8080/",
     "height": 815
    },
    "colab_type": "code",
    "id": "ZgtiadXFIlkx",
    "outputId": "f386a508-8404-4055-87dd-9707d34f7280"
   },
   "outputs": [
    {
     "data": {
      "text/plain": [
       "(array([1.866e+03, 3.012e+03, 3.715e+03, 9.693e+03, 5.352e+03, 5.110e+03,\n",
       "        5.153e+03, 9.838e+03, 4.643e+03, 4.487e+03, 4.166e+03, 7.675e+03,\n",
       "        3.606e+03, 3.543e+03, 3.379e+03, 6.698e+03, 3.121e+03, 3.142e+03,\n",
       "        2.936e+03, 4.838e+03, 1.646e+03, 1.117e+03, 5.850e+02, 5.300e+02,\n",
       "        7.400e+01, 3.500e+01, 1.800e+01, 3.000e+00, 0.000e+00, 2.000e+00,\n",
       "        0.000e+00, 1.000e+00, 2.000e+00, 0.000e+00, 0.000e+00, 0.000e+00,\n",
       "        0.000e+00, 0.000e+00, 0.000e+00, 0.000e+00, 0.000e+00, 0.000e+00,\n",
       "        0.000e+00, 0.000e+00, 0.000e+00, 0.000e+00, 0.000e+00, 0.000e+00,\n",
       "        0.000e+00, 0.000e+00, 0.000e+00, 1.000e+00, 0.000e+00, 1.000e+00,\n",
       "        0.000e+00, 0.000e+00, 0.000e+00, 0.000e+00, 0.000e+00, 0.000e+00,\n",
       "        0.000e+00, 0.000e+00, 0.000e+00, 0.000e+00, 0.000e+00, 0.000e+00,\n",
       "        0.000e+00, 0.000e+00, 0.000e+00, 0.000e+00, 0.000e+00, 0.000e+00,\n",
       "        0.000e+00, 0.000e+00, 0.000e+00, 0.000e+00, 0.000e+00, 0.000e+00,\n",
       "        0.000e+00, 0.000e+00, 0.000e+00, 0.000e+00, 0.000e+00, 0.000e+00,\n",
       "        0.000e+00, 0.000e+00, 0.000e+00, 0.000e+00, 0.000e+00, 0.000e+00,\n",
       "        0.000e+00, 0.000e+00, 0.000e+00, 0.000e+00, 0.000e+00, 0.000e+00,\n",
       "        0.000e+00, 0.000e+00, 0.000e+00, 1.000e+00]),\n",
       " array([  1.  ,   2.26,   3.52,   4.78,   6.04,   7.3 ,   8.56,   9.82,\n",
       "         11.08,  12.34,  13.6 ,  14.86,  16.12,  17.38,  18.64,  19.9 ,\n",
       "         21.16,  22.42,  23.68,  24.94,  26.2 ,  27.46,  28.72,  29.98,\n",
       "         31.24,  32.5 ,  33.76,  35.02,  36.28,  37.54,  38.8 ,  40.06,\n",
       "         41.32,  42.58,  43.84,  45.1 ,  46.36,  47.62,  48.88,  50.14,\n",
       "         51.4 ,  52.66,  53.92,  55.18,  56.44,  57.7 ,  58.96,  60.22,\n",
       "         61.48,  62.74,  64.  ,  65.26,  66.52,  67.78,  69.04,  70.3 ,\n",
       "         71.56,  72.82,  74.08,  75.34,  76.6 ,  77.86,  79.12,  80.38,\n",
       "         81.64,  82.9 ,  84.16,  85.42,  86.68,  87.94,  89.2 ,  90.46,\n",
       "         91.72,  92.98,  94.24,  95.5 ,  96.76,  98.02,  99.28, 100.54,\n",
       "        101.8 , 103.06, 104.32, 105.58, 106.84, 108.1 , 109.36, 110.62,\n",
       "        111.88, 113.14, 114.4 , 115.66, 116.92, 118.18, 119.44, 120.7 ,\n",
       "        121.96, 123.22, 124.48, 125.74, 127.  ]),\n",
       " <a list of 100 Patch objects>)"
      ]
     },
     "execution_count": 15,
     "metadata": {
      "tags": []
     },
     "output_type": "execute_result"
    },
    {
     "data": {
      "image/png": "[encoded data removed]",
      "text/plain": [
       "<Figure size 432x288 with 1 Axes>"
      ]
     },
     "metadata": {
      "tags": []
     },
     "output_type": "display_data"
    }
   ],
   "source": [
    "plt.hist([len(i.split(' ')) for i in X],bins=100)\n"
   ]
  },
  {
   "cell_type": "code",
   "execution_count": 0,
   "metadata": {
    "colab": {
     "base_uri": "https://localhost:8080/",
     "height": 34
    },
    "colab_type": "code",
    "id": "qD_bOaZJEoej",
    "outputId": "6c3dcab5-461f-4419-e276-f0821a23cc14"
   },
   "outputs": [
    {
     "data": {
      "text/plain": [
       "127"
      ]
     },
     "execution_count": 12,
     "metadata": {
      "tags": []
     },
     "output_type": "execute_result"
    }
   ],
   "source": [
    "max([len(i.split(' ')) for i in X])"
   ]
  },
  {
   "cell_type": "code",
   "execution_count": 0,
   "metadata": {
    "colab": {},
    "colab_type": "code",
    "id": "FUtEa7EtEoo0"
   },
   "outputs": [],
   "source": [
    "X = list(map(lambda x : re.sub(r'\\s+',' ',x.strip()), X))"
   ]
  },
  {
   "cell_type": "code",
   "execution_count": 0,
   "metadata": {
    "colab": {},
    "colab_type": "code",
    "id": "VTuSLeVQCA5V"
   },
   "outputs": [],
   "source": [
    "X = list(map(lambda x : re.sub(r'([abcdifghijklmnopqrstuvwxyz])\\1+',r'\\1',x.strip()), X))"
   ]
  },
  {
   "cell_type": "markdown",
   "metadata": {
    "colab_type": "text",
    "id": "qS5Wi-X_izKq"
   },
   "source": [
    "## Работаем с выборкой"
   ]
  },
  {
   "cell_type": "code",
   "execution_count": 0,
   "metadata": {
    "colab": {},
    "colab_type": "code",
    "id": "I-N2gPx4iwZy"
   },
   "outputs": [],
   "source": [
    "from sklearn.model_selection import train_test_split\n",
    "X_train, X_test, y_train, y_test = train_test_split(X, y, test_size=0.2)"
   ]
  },
  {
   "cell_type": "code",
   "execution_count": 0,
   "metadata": {
    "colab": {},
    "colab_type": "code",
    "id": "Pvfc3NIji-Dx"
   },
   "outputs": [],
   "source": [
    "from sklearn.preprocessing import LabelEncoder\n",
    "l = LabelEncoder()\n",
    "y_train = l.fit_transform(y_train)\n",
    "y_test = l.transform(y_test)"
   ]
  },
  {
   "cell_type": "code",
   "execution_count": 0,
   "metadata": {
    "colab": {},
    "colab_type": "code",
    "id": "Z7VV74jCjPmg"
   },
   "outputs": [],
   "source": [
    "text = ' '.join(X_train)"
   ]
  },
  {
   "cell_type": "code",
   "execution_count": 0,
   "metadata": {
    "colab": {},
    "colab_type": "code",
    "id": "ElShuPdrjk9t"
   },
   "outputs": [],
   "source": [
    "import re \n",
    "ALL_WORDS = set(re.sub(r'\\s+',' ', text).split(' '))"
   ]
  },
  {
   "cell_type": "code",
   "execution_count": 0,
   "metadata": {
    "colab": {
     "base_uri": "https://localhost:8080/",
     "height": 34
    },
    "colab_type": "code",
    "id": "M2jCWVvVjoEq",
    "outputId": "443874a2-8bfa-456c-c083-123d3701b6c7"
   },
   "outputs": [
    {
     "data": {
      "text/plain": [
       "136176"
      ]
     },
     "execution_count": 180,
     "metadata": {
      "tags": []
     },
     "output_type": "execute_result"
    }
   ],
   "source": [
    "len(ALL_WORDS)"
   ]
  },
  {
   "cell_type": "code",
   "execution_count": 0,
   "metadata": {
    "colab": {},
    "colab_type": "code",
    "id": "0Pyr2SHVjreX"
   },
   "outputs": [],
   "source": [
    "from collections import Counter"
   ]
  },
  {
   "cell_type": "code",
   "execution_count": 0,
   "metadata": {
    "colab": {
     "base_uri": "https://localhost:8080/",
     "height": 372
    },
    "colab_type": "code",
    "id": "rcSwbm6rj7kg",
    "outputId": "2d9da89d-3622-4dd8-e568-861d8c94037b"
   },
   "outputs": [
    {
     "data": {
      "text/plain": [
       "[('i', 39114),\n",
       " ('to', 25848),\n",
       " ('the', 23723),\n",
       " ('you', 18953),\n",
       " ('a', 17566),\n",
       " ('and', 12693),\n",
       " ('it', 11268),\n",
       " ('my', 10924),\n",
       " ('for', 9934),\n",
       " ('of', 9451),\n",
       " ('is', 9325),\n",
       " ('in', 9155),\n",
       " ('that', 8058),\n",
       " ('have', 7825),\n",
       " ('so', 7552),\n",
       " ('on', 7359),\n",
       " ('me', 6951),\n",
       " ('but', 6867),\n",
       " (\"i'm\", 6638),\n",
       " ('be', 5791)]"
      ]
     },
     "execution_count": 182,
     "metadata": {
      "tags": []
     },
     "output_type": "execute_result"
    }
   ],
   "source": [
    "c = Counter(re.sub(r'\\s+',' ', text).split(' '))\n",
    "c.most_common(20)"
   ]
  },
  {
   "cell_type": "code",
   "execution_count": 0,
   "metadata": {
    "colab": {},
    "colab_type": "code",
    "id": "tRIiZXWcj-gp"
   },
   "outputs": [],
   "source": [
    "WORDS_COUNT = 10000"
   ]
  },
  {
   "cell_type": "code",
   "execution_count": 0,
   "metadata": {
    "colab": {},
    "colab_type": "code",
    "id": "ERhxSnUBkF_O"
   },
   "outputs": [],
   "source": [
    "ALL_WORDS = set([w for w, _ in c.most_common(WORDS_COUNT)])"
   ]
  },
  {
   "cell_type": "code",
   "execution_count": 0,
   "metadata": {
    "colab": {},
    "colab_type": "code",
    "id": "58-maQh9kNjn"
   },
   "outputs": [],
   "source": [
    "INDEX_TO_WORD = ['<pad>', '<miss>'] + list(ALL_WORDS)"
   ]
  },
  {
   "cell_type": "code",
   "execution_count": 0,
   "metadata": {
    "colab": {
     "base_uri": "https://localhost:8080/",
     "height": 34
    },
    "colab_type": "code",
    "id": "j-m20R_-kPLX",
    "outputId": "6b538a20-b980-449b-c06b-94564522ed56"
   },
   "outputs": [
    {
     "data": {
      "text/plain": [
       "10002"
      ]
     },
     "execution_count": 188,
     "metadata": {
      "tags": []
     },
     "output_type": "execute_result"
    }
   ],
   "source": [
    "len(INDEX_TO_WORD)\n"
   ]
  },
  {
   "cell_type": "code",
   "execution_count": 0,
   "metadata": {
    "colab": {},
    "colab_type": "code",
    "id": "gs_BNWufknpU"
   },
   "outputs": [],
   "source": [
    "WORD_TO_INDEX = {w: i for i, w in enumerate(INDEX_TO_WORD)}"
   ]
  },
  {
   "cell_type": "code",
   "execution_count": 0,
   "metadata": {
    "colab": {
     "base_uri": "https://localhost:8080/",
     "height": 194
    },
    "colab_type": "code",
    "id": "5KDk17yNkt7l",
    "outputId": "bfe9279b-02af-49c7-a241-2b517a8b7828"
   },
   "outputs": [
    {
     "data": {
      "text/plain": [
       "['<pad>',\n",
       " '<miss>',\n",
       " 'please.',\n",
       " 'conection',\n",
       " 'chinese',\n",
       " 'more!',\n",
       " 'definitely.',\n",
       " 'yours!',\n",
       " 'mid',\n",
       " 'god.']"
      ]
     },
     "execution_count": 190,
     "metadata": {
      "tags": []
     },
     "output_type": "execute_result"
    }
   ],
   "source": [
    "INDEX_TO_WORD[:10]"
   ]
  },
  {
   "cell_type": "code",
   "execution_count": 0,
   "metadata": {
    "colab": {},
    "colab_type": "code",
    "id": "WpeKwLpjk8hO"
   },
   "outputs": [],
   "source": [
    "%matplotlib inline\n",
    "import matplotlib.pyplot as plt"
   ]
  },
  {
   "cell_type": "code",
   "execution_count": 0,
   "metadata": {
    "colab": {
     "base_uri": "https://localhost:8080/",
     "height": 264
    },
    "colab_type": "code",
    "id": "L7wKe91YlGa7",
    "outputId": "67124d42-90b7-442b-8135-429cfa2feb37"
   },
   "outputs": [
    {
     "data": {
      "image/png": "[encoded data removed]",
      "text/plain": [
       "<Figure size 432x288 with 1 Axes>"
      ]
     },
     "metadata": {
      "tags": []
     },
     "output_type": "display_data"
    }
   ],
   "source": [
    "x = plt.hist([len(s.split(' ')) for s in X_train], bins=50)"
   ]
  },
  {
   "cell_type": "markdown",
   "metadata": {
    "colab_type": "text",
    "id": "FTka2Rlbk5T_"
   },
   "source": [
    "## Формируем датасеты"
   ]
  },
  {
   "cell_type": "code",
   "execution_count": 0,
   "metadata": {
    "colab": {},
    "colab_type": "code",
    "id": "deFc2d0LkvWY"
   },
   "outputs": [],
   "source": [
    "MAX_LEN = 30"
   ]
  },
  {
   "cell_type": "code",
   "execution_count": 0,
   "metadata": {
    "colab": {},
    "colab_type": "code",
    "id": "m5L3M7lale9m"
   },
   "outputs": [],
   "source": [
    "import torch"
   ]
  },
  {
   "cell_type": "code",
   "execution_count": 0,
   "metadata": {
    "colab": {},
    "colab_type": "code",
    "id": "nMfvwsealjjF"
   },
   "outputs": [],
   "source": [
    "train_data = torch.zeros((len(X_train), MAX_LEN), dtype=int)\n",
    "test_data = torch.zeros((len(X_test), MAX_LEN), dtype=int)"
   ]
  },
  {
   "cell_type": "code",
   "execution_count": 0,
   "metadata": {
    "colab": {},
    "colab_type": "code",
    "id": "2O5YSvEClvUa"
   },
   "outputs": [],
   "source": [
    "for i in range(len(X_train)):\n",
    "  for j, w in enumerate(re.sub(r'\\s+',' ', X_train[i]).split(' ')):\n",
    "    if j >= MAX_LEN:\n",
    "      break\n",
    "    train_data[i, j] = WORD_TO_INDEX.get(w, WORD_TO_INDEX['<miss>'])"
   ]
  },
  {
   "cell_type": "code",
   "execution_count": 0,
   "metadata": {
    "colab": {},
    "colab_type": "code",
    "id": "rQ74aPlDmK03"
   },
   "outputs": [],
   "source": [
    "for i in range(len(X_test)):\n",
    "  for j, w in enumerate(re.sub(r'\\s+',' ', X_test[i]).split(' ')):\n",
    "    if j >= MAX_LEN:\n",
    "      break\n",
    "    test_data[i, j] = WORD_TO_INDEX.get(w, WORD_TO_INDEX['<miss>'])"
   ]
  },
  {
   "cell_type": "code",
   "execution_count": 0,
   "metadata": {
    "colab": {},
    "colab_type": "code",
    "id": "CsHWd0R8mdQu"
   },
   "outputs": [],
   "source": [
    "train_dataset = torch.utils.data.TensorDataset(train_data, torch.LongTensor(y_train))\n",
    "test_dataset = torch.utils.data.TensorDataset(test_data, torch.LongTensor(y_test))"
   ]
  },
  {
   "cell_type": "code",
   "execution_count": 0,
   "metadata": {
    "colab": {},
    "colab_type": "code",
    "id": "cR1vlCvDm9kk"
   },
   "outputs": [],
   "source": [
    "BATCH_SIZE = 128"
   ]
  },
  {
   "cell_type": "code",
   "execution_count": 0,
   "metadata": {
    "colab": {},
    "colab_type": "code",
    "id": "F9ucwCPRm_W8"
   },
   "outputs": [],
   "source": [
    "train = torch.utils.data.DataLoader(train_dataset, BATCH_SIZE, shuffle=True)\n",
    "test = torch.utils.data.DataLoader(test_dataset, BATCH_SIZE, shuffle=False)"
   ]
  },
  {
   "cell_type": "code",
   "execution_count": 0,
   "metadata": {
    "colab": {},
    "colab_type": "code",
    "id": "Cr9Vdo2enQJd"
   },
   "outputs": [],
   "source": [
    "dev = torch.device('cuda')"
   ]
  },
  {
   "cell_type": "markdown",
   "metadata": {
    "colab_type": "text",
    "id": "nmcekaNLndKQ"
   },
   "source": [
    "## Модель"
   ]
  },
  {
   "cell_type": "code",
   "execution_count": 0,
   "metadata": {
    "colab": {},
    "colab_type": "code",
    "id": "IIiRVXh4nUn4"
   },
   "outputs": [],
   "source": [
    "from torch import nn"
   ]
  },
  {
   "cell_type": "code",
   "execution_count": 0,
   "metadata": {
    "colab": {},
    "colab_type": "code",
    "id": "GXdEK6o2q9-S"
   },
   "outputs": [],
   "source": [
    "class GRUModel(nn.Module):\n",
    "  def __init__(self, dict_size, embed_size, num_hiddens, num_classes, num_layers=1):\n",
    "    super().__init__()\n",
    "\n",
    "    self.num_hiddens = num_hiddens\n",
    "    self.embed = nn.Embedding(dict_size, embed_size)\n",
    "    self.rnn = nn.GRU(embed_size, num_hiddens, num_layers=num_layers, batch_first=True)\n",
    "    self.output = nn.Linear(num_hiddens, num_classes)\n",
    "\n",
    "  def forward(self, X):\n",
    "    output = self.embed(X)\n",
    "    y, s = self.rnn(output)\n",
    "    return self.output(s[0])"
   ]
  },
  {
   "cell_type": "code",
   "execution_count": 0,
   "metadata": {
    "colab": {},
    "colab_type": "code",
    "id": "rHLlqaozrQAC"
   },
   "outputs": [],
   "source": [
    "class LSTMModel(nn.Module):\n",
    "  def __init__(self, dict_size, embed_size, num_hiddens, num_classes, num_layers=1):\n",
    "    super().__init__()\n",
    "\n",
    "    self.num_hiddens = num_hiddens\n",
    "    self.embed = nn.Embedding(dict_size, embed_size)\n",
    "    self.rnn = nn.LSTM(embed_size, num_hiddens, num_layers=num_layers, batch_first=True)\n",
    "    self.output = nn.Linear(num_hiddens, num_classes)\n",
    "\n",
    "  def forward(self, X):\n",
    "    output = self.embed(X)\n",
    "    y, s = self.rnn(output)\n",
    "    return self.output(s[0][0])"
   ]
  },
  {
   "cell_type": "markdown",
   "metadata": {
    "colab_type": "text",
    "id": "y38AMZZ_o5nu"
   },
   "source": [
    "## Обучение"
   ]
  },
  {
   "cell_type": "code",
   "execution_count": 0,
   "metadata": {
    "colab": {},
    "colab_type": "code",
    "id": "QybAScnwpwMx"
   },
   "outputs": [],
   "source": [
    "import time"
   ]
  },
  {
   "cell_type": "code",
   "execution_count": 0,
   "metadata": {
    "colab": {},
    "colab_type": "code",
    "id": "hJU4Cz3KoxdQ"
   },
   "outputs": [],
   "source": [
    "def validate_acc(model, dataset, dev):\n",
    "  loss = nn.CrossEntropyLoss(reduction='sum')\n",
    "  loss_acc, passed, correct = 0., 0, 0\n",
    "  for X, y in dataset:\n",
    "    X = X.to(dev)\n",
    "    y = y.to(dev)\n",
    "\n",
    "    output = model(X)\n",
    "    l = loss(output, y)\n",
    "\n",
    "    loss_acc += l.item()\n",
    "    correct += (output.argmax(dim=1) == y).sum().item()\n",
    "    passed += len(y)\n",
    "\n",
    "  return loss_acc / passed, correct / passed"
   ]
  },
  {
   "cell_type": "code",
   "execution_count": 0,
   "metadata": {
    "colab": {},
    "colab_type": "code",
    "id": "gLsMCVb_pcN4"
   },
   "outputs": [],
   "source": [
    "def train_model(model, train_dl, test_dl, trainer, dev, num_epochs=25):\n",
    "  loss = nn.CrossEntropyLoss(reduction='sum')\n",
    "  for ep in range(num_epochs):\n",
    "    ep_start, tloss_acc, tpassed, tcorrect = time.time(), 0., 0, 0\n",
    "    for X, y in train_dl:\n",
    "      X, y = X.to(dev), y.to(dev)\n",
    "      trainer.zero_grad()\n",
    "\n",
    "      output = model(X)\n",
    "      l = loss(output, y)\n",
    "      l.backward()\n",
    "      trainer.step()\n",
    "\n",
    "      tloss_acc += l.item()\n",
    "      tcorrect += (output.argmax(dim=1) == y).sum().item()\n",
    "      tpassed += len(y)\n",
    "    \n",
    "    test_loss, test_acc = validate_acc(model, test_dl, dev)\n",
    "\n",
    "    print('Epoch {}. Taked {:.3f} sec. Train loss: {:.3f}, Train acc {:.3f}, Test  Loss {:.3f}, Test Acc {:.3f}'.format(\n",
    "        ep, time.time() - ep_start, tloss_acc / tpassed, tcorrect / tpassed, test_loss, test_acc\n",
    "    ))"
   ]
  },
  {
   "cell_type": "markdown",
   "metadata": {
    "colab_type": "text",
    "id": "Z1Gbv0w0qjxq"
   },
   "source": [
    "## Эксперимент"
   ]
  },
  {
   "cell_type": "code",
   "execution_count": 0,
   "metadata": {
    "colab": {
     "base_uri": "https://localhost:8080/",
     "height": 816
    },
    "colab_type": "code",
    "id": "NesJuQOqqxNW",
    "outputId": "cbbe3b86-b330-490b-e36b-897eba30204c"
   },
   "outputs": [
    {
     "name": "stdout",
     "output_type": "stream",
     "text": [
      "Epoch 0. Taked 4.261 sec. Train loss: 0.686, Train acc 0.561, Test  Loss 0.683, Test Acc 0.569\n",
      "Epoch 1. Taked 4.070 sec. Train loss: 0.685, Train acc 0.567, Test  Loss 0.682, Test Acc 0.572\n",
      "Epoch 2. Taked 4.090 sec. Train loss: 0.684, Train acc 0.567, Test  Loss 0.684, Test Acc 0.572\n",
      "Epoch 3. Taked 4.148 sec. Train loss: 0.684, Train acc 0.566, Test  Loss 0.680, Test Acc 0.575\n",
      "Epoch 4. Taked 4.139 sec. Train loss: 0.682, Train acc 0.568, Test  Loss 0.682, Test Acc 0.573\n",
      "Epoch 5. Taked 4.139 sec. Train loss: 0.678, Train acc 0.574, Test  Loss 0.676, Test Acc 0.583\n",
      "Epoch 6. Taked 4.178 sec. Train loss: 0.669, Train acc 0.589, Test  Loss 0.665, Test Acc 0.602\n",
      "Epoch 7. Taked 4.155 sec. Train loss: 0.655, Train acc 0.613, Test  Loss 0.649, Test Acc 0.620\n",
      "Epoch 8. Taked 4.176 sec. Train loss: 0.640, Train acc 0.633, Test  Loss 0.636, Test Acc 0.637\n",
      "Epoch 9. Taked 4.164 sec. Train loss: 0.624, Train acc 0.650, Test  Loss 0.623, Test Acc 0.654\n",
      "Epoch 10. Taked 4.210 sec. Train loss: 0.608, Train acc 0.667, Test  Loss 0.604, Test Acc 0.674\n",
      "Epoch 11. Taked 4.166 sec. Train loss: 0.592, Train acc 0.682, Test  Loss 0.588, Test Acc 0.688\n",
      "Epoch 12. Taked 4.146 sec. Train loss: 0.579, Train acc 0.694, Test  Loss 0.578, Test Acc 0.695\n",
      "Epoch 13. Taked 4.103 sec. Train loss: 0.568, Train acc 0.704, Test  Loss 0.568, Test Acc 0.703\n",
      "Epoch 14. Taked 4.109 sec. Train loss: 0.560, Train acc 0.709, Test  Loss 0.562, Test Acc 0.707\n",
      "Epoch 15. Taked 4.201 sec. Train loss: 0.553, Train acc 0.714, Test  Loss 0.556, Test Acc 0.712\n",
      "Epoch 16. Taked 4.156 sec. Train loss: 0.547, Train acc 0.718, Test  Loss 0.553, Test Acc 0.716\n",
      "Epoch 17. Taked 4.183 sec. Train loss: 0.542, Train acc 0.723, Test  Loss 0.551, Test Acc 0.716\n",
      "Epoch 18. Taked 4.211 sec. Train loss: 0.537, Train acc 0.726, Test  Loss 0.554, Test Acc 0.715\n",
      "Epoch 19. Taked 4.140 sec. Train loss: 0.533, Train acc 0.730, Test  Loss 0.541, Test Acc 0.724\n",
      "Epoch 20. Taked 4.210 sec. Train loss: 0.528, Train acc 0.733, Test  Loss 0.539, Test Acc 0.727\n",
      "Epoch 21. Taked 4.059 sec. Train loss: 0.525, Train acc 0.736, Test  Loss 0.539, Test Acc 0.728\n",
      "Epoch 22. Taked 4.034 sec. Train loss: 0.521, Train acc 0.739, Test  Loss 0.534, Test Acc 0.729\n",
      "Epoch 23. Taked 4.073 sec. Train loss: 0.518, Train acc 0.742, Test  Loss 0.532, Test Acc 0.731\n",
      "Epoch 24. Taked 4.169 sec. Train loss: 0.515, Train acc 0.744, Test  Loss 0.530, Test Acc 0.733\n",
      "Epoch 25. Taked 4.228 sec. Train loss: 0.511, Train acc 0.745, Test  Loss 0.546, Test Acc 0.724\n",
      "Epoch 26. Taked 4.190 sec. Train loss: 0.508, Train acc 0.747, Test  Loss 0.527, Test Acc 0.732\n",
      "Epoch 27. Taked 4.135 sec. Train loss: 0.505, Train acc 0.750, Test  Loss 0.525, Test Acc 0.735\n",
      "Epoch 28. Taked 4.104 sec. Train loss: 0.501, Train acc 0.753, Test  Loss 0.528, Test Acc 0.734\n",
      "Epoch 29. Taked 4.192 sec. Train loss: 0.499, Train acc 0.754, Test  Loss 0.522, Test Acc 0.738\n",
      "Epoch 30. Taked 4.138 sec. Train loss: 0.496, Train acc 0.757, Test  Loss 0.532, Test Acc 0.731\n",
      "Epoch 31. Taked 4.081 sec. Train loss: 0.492, Train acc 0.760, Test  Loss 0.519, Test Acc 0.740\n",
      "Epoch 32. Taked 4.110 sec. Train loss: 0.489, Train acc 0.761, Test  Loss 0.519, Test Acc 0.741\n",
      "Epoch 33. Taked 4.102 sec. Train loss: 0.486, Train acc 0.766, Test  Loss 0.516, Test Acc 0.742\n",
      "Epoch 34. Taked 4.162 sec. Train loss: 0.482, Train acc 0.767, Test  Loss 0.518, Test Acc 0.740\n",
      "Epoch 35. Taked 4.173 sec. Train loss: 0.480, Train acc 0.768, Test  Loss 0.523, Test Acc 0.742\n",
      "Epoch 36. Taked 4.110 sec. Train loss: 0.476, Train acc 0.771, Test  Loss 0.514, Test Acc 0.746\n",
      "Epoch 37. Taked 4.082 sec. Train loss: 0.472, Train acc 0.773, Test  Loss 0.514, Test Acc 0.746\n",
      "Epoch 38. Taked 4.154 sec. Train loss: 0.469, Train acc 0.776, Test  Loss 0.511, Test Acc 0.748\n",
      "Epoch 39. Taked 4.206 sec. Train loss: 0.465, Train acc 0.778, Test  Loss 0.512, Test Acc 0.748\n",
      "Epoch 40. Taked 4.120 sec. Train loss: 0.461, Train acc 0.781, Test  Loss 0.513, Test Acc 0.747\n",
      "Epoch 41. Taked 4.112 sec. Train loss: 0.459, Train acc 0.783, Test  Loss 0.509, Test Acc 0.750\n",
      "Epoch 42. Taked 4.070 sec. Train loss: 0.454, Train acc 0.786, Test  Loss 0.522, Test Acc 0.739\n",
      "Epoch 43. Taked 4.121 sec. Train loss: 0.450, Train acc 0.788, Test  Loss 0.514, Test Acc 0.752\n",
      "Epoch 44. Taked 4.140 sec. Train loss: 0.446, Train acc 0.791, Test  Loss 0.512, Test Acc 0.748\n"
     ]
    }
   ],
   "source": [
    "model = GRUModel(len(INDEX_TO_WORD), 300, 256, 2).to(dev)\n",
    "trainer = torch.optim.SGD(model.parameters(), lr=0.0001)\n",
    "train_model(model, train, test, trainer, dev, num_epochs=45)"
   ]
  },
  {
   "cell_type": "code",
   "execution_count": 0,
   "metadata": {
    "colab": {},
    "colab_type": "code",
    "id": "g2jikrCjt0Dh"
   },
   "outputs": [],
   "source": [
    "torch.save(model.state_dict(), 'model')"
   ]
  },
  {
   "cell_type": "code",
   "execution_count": 0,
   "metadata": {
    "colab": {
     "base_uri": "https://localhost:8080/",
     "height": 816
    },
    "colab_type": "code",
    "id": "Mm668AZ-rCoW",
    "outputId": "2d107258-709b-42db-d80c-67b28e9ff417"
   },
   "outputs": [
    {
     "name": "stdout",
     "output_type": "stream",
     "text": [
      "Epoch 0. Taked 4.698 sec. Train loss: 0.685, Train acc 0.564, Test  Loss 0.684, Test Acc 0.567\n",
      "Epoch 1. Taked 4.605 sec. Train loss: 0.684, Train acc 0.565, Test  Loss 0.683, Test Acc 0.568\n",
      "Epoch 2. Taked 4.609 sec. Train loss: 0.683, Train acc 0.567, Test  Loss 0.682, Test Acc 0.572\n",
      "Epoch 3. Taked 4.682 sec. Train loss: 0.683, Train acc 0.569, Test  Loss 0.682, Test Acc 0.572\n",
      "Epoch 4. Taked 4.718 sec. Train loss: 0.683, Train acc 0.570, Test  Loss 0.681, Test Acc 0.572\n",
      "Epoch 5. Taked 4.731 sec. Train loss: 0.683, Train acc 0.570, Test  Loss 0.681, Test Acc 0.573\n",
      "Epoch 6. Taked 4.706 sec. Train loss: 0.682, Train acc 0.571, Test  Loss 0.682, Test Acc 0.575\n",
      "Epoch 7. Taked 4.843 sec. Train loss: 0.682, Train acc 0.570, Test  Loss 0.680, Test Acc 0.575\n",
      "Epoch 8. Taked 4.766 sec. Train loss: 0.682, Train acc 0.570, Test  Loss 0.680, Test Acc 0.576\n",
      "Epoch 9. Taked 4.791 sec. Train loss: 0.681, Train acc 0.570, Test  Loss 0.678, Test Acc 0.576\n",
      "Epoch 10. Taked 4.776 sec. Train loss: 0.679, Train acc 0.573, Test  Loss 0.674, Test Acc 0.577\n",
      "Epoch 11. Taked 4.770 sec. Train loss: 0.670, Train acc 0.585, Test  Loss 0.664, Test Acc 0.593\n",
      "Epoch 12. Taked 4.779 sec. Train loss: 0.650, Train acc 0.620, Test  Loss 0.644, Test Acc 0.625\n",
      "Epoch 13. Taked 4.743 sec. Train loss: 0.624, Train acc 0.651, Test  Loss 0.615, Test Acc 0.662\n",
      "Epoch 14. Taked 4.706 sec. Train loss: 0.604, Train acc 0.672, Test  Loss 0.601, Test Acc 0.670\n",
      "Epoch 15. Taked 4.720 sec. Train loss: 0.589, Train acc 0.686, Test  Loss 0.592, Test Acc 0.688\n",
      "Epoch 16. Taked 4.734 sec. Train loss: 0.579, Train acc 0.696, Test  Loss 0.585, Test Acc 0.693\n",
      "Epoch 17. Taked 4.672 sec. Train loss: 0.569, Train acc 0.705, Test  Loss 0.572, Test Acc 0.699\n",
      "Epoch 18. Taked 4.655 sec. Train loss: 0.561, Train acc 0.712, Test  Loss 0.566, Test Acc 0.704\n",
      "Epoch 19. Taked 4.683 sec. Train loss: 0.552, Train acc 0.718, Test  Loss 0.565, Test Acc 0.707\n",
      "Epoch 20. Taked 4.732 sec. Train loss: 0.545, Train acc 0.723, Test  Loss 0.566, Test Acc 0.703\n",
      "Epoch 21. Taked 4.650 sec. Train loss: 0.538, Train acc 0.730, Test  Loss 0.549, Test Acc 0.723\n",
      "Epoch 22. Taked 4.679 sec. Train loss: 0.532, Train acc 0.734, Test  Loss 0.541, Test Acc 0.727\n",
      "Epoch 23. Taked 4.722 sec. Train loss: 0.527, Train acc 0.738, Test  Loss 0.538, Test Acc 0.731\n",
      "Epoch 24. Taked 4.725 sec. Train loss: 0.521, Train acc 0.741, Test  Loss 0.566, Test Acc 0.713\n",
      "Epoch 25. Taked 4.740 sec. Train loss: 0.516, Train acc 0.746, Test  Loss 0.530, Test Acc 0.735\n",
      "Epoch 26. Taked 4.702 sec. Train loss: 0.510, Train acc 0.750, Test  Loss 0.530, Test Acc 0.734\n",
      "Epoch 27. Taked 4.676 sec. Train loss: 0.505, Train acc 0.754, Test  Loss 0.527, Test Acc 0.739\n",
      "Epoch 28. Taked 4.714 sec. Train loss: 0.501, Train acc 0.756, Test  Loss 0.525, Test Acc 0.736\n",
      "Epoch 29. Taked 4.726 sec. Train loss: 0.497, Train acc 0.759, Test  Loss 0.519, Test Acc 0.744\n",
      "Epoch 30. Taked 4.774 sec. Train loss: 0.492, Train acc 0.762, Test  Loss 0.521, Test Acc 0.738\n",
      "Epoch 31. Taked 4.708 sec. Train loss: 0.487, Train acc 0.766, Test  Loss 0.522, Test Acc 0.738\n",
      "Epoch 32. Taked 4.724 sec. Train loss: 0.484, Train acc 0.768, Test  Loss 0.555, Test Acc 0.727\n",
      "Epoch 33. Taked 4.722 sec. Train loss: 0.479, Train acc 0.770, Test  Loss 0.510, Test Acc 0.749\n",
      "Epoch 34. Taked 4.701 sec. Train loss: 0.474, Train acc 0.773, Test  Loss 0.515, Test Acc 0.744\n",
      "Epoch 35. Taked 4.688 sec. Train loss: 0.471, Train acc 0.777, Test  Loss 0.523, Test Acc 0.744\n",
      "Epoch 36. Taked 4.732 sec. Train loss: 0.467, Train acc 0.779, Test  Loss 0.516, Test Acc 0.745\n",
      "Epoch 37. Taked 4.714 sec. Train loss: 0.463, Train acc 0.782, Test  Loss 0.517, Test Acc 0.743\n",
      "Epoch 38. Taked 4.761 sec. Train loss: 0.460, Train acc 0.784, Test  Loss 0.511, Test Acc 0.748\n",
      "Epoch 39. Taked 4.703 sec. Train loss: 0.455, Train acc 0.788, Test  Loss 0.508, Test Acc 0.751\n",
      "Epoch 40. Taked 4.697 sec. Train loss: 0.452, Train acc 0.789, Test  Loss 0.508, Test Acc 0.750\n",
      "Epoch 41. Taked 4.760 sec. Train loss: 0.448, Train acc 0.792, Test  Loss 0.509, Test Acc 0.752\n",
      "Epoch 42. Taked 4.699 sec. Train loss: 0.446, Train acc 0.794, Test  Loss 0.506, Test Acc 0.753\n",
      "Epoch 43. Taked 4.675 sec. Train loss: 0.441, Train acc 0.797, Test  Loss 0.508, Test Acc 0.751\n",
      "Epoch 44. Taked 4.690 sec. Train loss: 0.438, Train acc 0.799, Test  Loss 0.515, Test Acc 0.749\n"
     ]
    }
   ],
   "source": [
    "model = LSTMModel(len(INDEX_TO_WORD), 300,256, 2).to(dev)\n",
    "trainer = torch.optim.SGD(model.parameters(), lr=0.0001)\n",
    "train_model(model, train, test, trainer, dev, num_epochs=45)"
   ]
  },
  {
   "cell_type": "code",
   "execution_count": 0,
   "metadata": {
    "colab": {},
    "colab_type": "code",
    "id": "_X5BKobur3vG"
   },
   "outputs": [],
   "source": [
    "from sklearn.feature_extraction.text import TfidfVectorizer"
   ]
  },
  {
   "cell_type": "code",
   "execution_count": 0,
   "metadata": {
    "colab": {},
    "colab_type": "code",
    "id": "eSpuwfxBJFGn"
   },
   "outputs": [],
   "source": [
    "vectorizer = TfidfVectorizer()\n",
    "X_tf_idf = vectorizer.fit_transform(X_train)\n"
   ]
  },
  {
   "cell_type": "code",
   "execution_count": 0,
   "metadata": {
    "colab": {},
    "colab_type": "code",
    "id": "svPsJDs3Tpk4"
   },
   "outputs": [],
   "source": [
    "X_tf_idf_test = vectorizer.transform(X_test)"
   ]
  },
  {
   "cell_type": "code",
   "execution_count": 0,
   "metadata": {
    "colab": {},
    "colab_type": "code",
    "id": "yApVSpLMJFQG"
   },
   "outputs": [],
   "source": [
    "from sklearn.ensemble import RandomForestClassifier"
   ]
  },
  {
   "cell_type": "code",
   "execution_count": 0,
   "metadata": {
    "colab": {},
    "colab_type": "code",
    "id": "_Pl1EFUFQf8Y"
   },
   "outputs": [],
   "source": [
    "clf = RandomForestClassifier()"
   ]
  },
  {
   "cell_type": "code",
   "execution_count": 0,
   "metadata": {
    "colab": {
     "base_uri": "https://localhost:8080/",
     "height": 158
    },
    "colab_type": "code",
    "id": "YKQfChQIQhEt",
    "outputId": "c72312cd-cfbb-4308-f7d8-95852237c258"
   },
   "outputs": [
    {
     "data": {
      "text/plain": [
       "RandomForestClassifier(bootstrap=True, ccp_alpha=0.0, class_weight=None,\n",
       "                       criterion='gini', max_depth=None, max_features='auto',\n",
       "                       max_leaf_nodes=None, max_samples=None,\n",
       "                       min_impurity_decrease=0.0, min_impurity_split=None,\n",
       "                       min_samples_leaf=1, min_samples_split=2,\n",
       "                       min_weight_fraction_leaf=0.0, n_estimators=100,\n",
       "                       n_jobs=None, oob_score=False, random_state=None,\n",
       "                       verbose=0, warm_start=False)"
      ]
     },
     "execution_count": 231,
     "metadata": {
      "tags": []
     },
     "output_type": "execute_result"
    }
   ],
   "source": [
    "clf.fit(X_tf_idf, y_train)"
   ]
  },
  {
   "cell_type": "code",
   "execution_count": 0,
   "metadata": {
    "colab": {},
    "colab_type": "code",
    "id": "PmFM7fNxQhIB"
   },
   "outputs": [],
   "source": [
    "y_pred = clf.predict_proba(X_tf_idf_test)\n",
    "y_pred_int = clf.predict(X_tf_idf_test)\n"
   ]
  },
  {
   "cell_type": "code",
   "execution_count": 0,
   "metadata": {
    "colab": {},
    "colab_type": "code",
    "id": "16O0UFL_QhOt"
   },
   "outputs": [],
   "source": [
    "from sklearn.metrics import roc_auc_score, roc_curve, accuracy_score "
   ]
  },
  {
   "cell_type": "code",
   "execution_count": 0,
   "metadata": {
    "colab": {
     "base_uri": "https://localhost:8080/",
     "height": 34
    },
    "colab_type": "code",
    "id": "UP3KGDxhZzgy",
    "outputId": "35a92666-acc1-4967-c2ec-0ff25639ed22"
   },
   "outputs": [
    {
     "data": {
      "text/plain": [
       "0.8354224895865703"
      ]
     },
     "execution_count": 251,
     "metadata": {
      "tags": []
     },
     "output_type": "execute_result"
    }
   ],
   "source": [
    "roc_auc_score(y_test, y_pred[:, 1])"
   ]
  },
  {
   "cell_type": "code",
   "execution_count": 0,
   "metadata": {
    "colab": {
     "base_uri": "https://localhost:8080/",
     "height": 34
    },
    "colab_type": "code",
    "id": "2og2wBc9aK6V",
    "outputId": "c2eaf5ff-1d27-4908-c37b-65d3a17e4c34"
   },
   "outputs": [
    {
     "data": {
      "text/plain": [
       "0.7592759275927593"
      ]
     },
     "execution_count": 256,
     "metadata": {
      "tags": []
     },
     "output_type": "execute_result"
    }
   ],
   "source": [
    "accuracy_score(y_test,y_pred_int)"
   ]
  },
  {
   "cell_type": "code",
   "execution_count": 0,
   "metadata": {
    "colab": {},
    "colab_type": "code",
    "id": "H2I7L_TIWKu2"
   },
   "outputs": [],
   "source": [
    "fpr, tpr, thresholds = roc_curve(y_test, y_pred[:, 1])"
   ]
  },
  {
   "cell_type": "code",
   "execution_count": 0,
   "metadata": {
    "colab": {
     "base_uri": "https://localhost:8080/",
     "height": 330
    },
    "colab_type": "code",
    "id": "dzSUaKlPYSD8",
    "outputId": "6c781650-a51d-4e81-e7b8-467352ead4ea"
   },
   "outputs": [
    {
     "name": "stderr",
     "output_type": "stream",
     "text": [
      "No handles with labels found to put in legend.\n"
     ]
    },
    {
     "data": {
      "text/plain": [
       "<matplotlib.legend.Legend at 0x7f0ce96f57b8>"
      ]
     },
     "execution_count": 259,
     "metadata": {
      "tags": []
     },
     "output_type": "execute_result"
    },
    {
     "data": {
      "image/png": "[encoded data removed]",
      "text/plain": [
       "<Figure size 432x288 with 1 Axes>"
      ]
     },
     "metadata": {
      "tags": []
     },
     "output_type": "display_data"
    }
   ],
   "source": [
    "plt.plot(fpr, tpr, color='darkorange')\n",
    "plt.plot([0, 1], [0, 1], color='navy',  linestyle='--')\n",
    "plt.xlim([0.0, 1.0])\n",
    "plt.ylim([0.0, 1.05])\n",
    "plt.xlabel('False Positive Rate')\n",
    "plt.ylabel('True Positive Rate')\n",
    "plt.title('Receiver operating characteristic example')\n",
    "plt.legend(loc=\"lower right\")\n"
   ]
  },
  {
   "cell_type": "code",
   "execution_count": 0,
   "metadata": {
    "colab": {},
    "colab_type": "code",
    "id": "jfdQz3aHby52"
   },
   "outputs": [],
   "source": []
  }
 ],
 "metadata": {
  "accelerator": "GPU",
  "colab": {
   "collapsed_sections": [],
   "name": "for 8 hw",
   "provenance": []
  },
  "kernelspec": {
   "display_name": "Python 3",
   "language": "python",
   "name": "python3"
  },
  "language_info": {
   "codemirror_mode": {
    "name": "ipython",
    "version": 3
   },
   "file_extension": ".py",
   "mimetype": "text/x-python",
   "name": "python",
   "nbconvert_exporter": "python",
   "pygments_lexer": "ipython3",
   "version": "3.6.9"
  }
 },
 "nbformat": 4,
 "nbformat_minor": 1
}
